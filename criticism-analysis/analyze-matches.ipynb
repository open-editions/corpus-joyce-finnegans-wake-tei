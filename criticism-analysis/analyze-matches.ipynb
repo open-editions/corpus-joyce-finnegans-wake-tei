{
 "cells": [
  {
   "cell_type": "code",
   "execution_count": 173,
   "metadata": {},
   "outputs": [],
   "source": [
    "import pandas as pd\n",
    "import numpy as np\n",
    "import xml.etree.ElementTree as ET\n",
    "from lxml.builder import E\n",
    "from lxml.etree import tostring"
   ]
  },
  {
   "cell_type": "code",
   "execution_count": 3,
   "metadata": {},
   "outputs": [],
   "source": [
    "df = pd.read_csv('fw-matches-1.csv')"
   ]
  },
  {
   "cell_type": "code",
   "execution_count": 6,
   "metadata": {},
   "outputs": [
    {
     "data": {
      "text/plain": [
       "'/home/jon/Code/corpus-joyce-finnegans-wake-tei/criticism-analysis/1/ocr/journal-article-10.2307_25473839.txt'"
      ]
     },
     "execution_count": 6,
     "metadata": {},
     "output_type": "execute_result"
    }
   ],
   "source": [
    "df.iloc[0]['Text B']"
   ]
  },
  {
   "cell_type": "code",
   "execution_count": 7,
   "metadata": {},
   "outputs": [
    {
     "data": {
      "text/plain": [
       "Text A            /home/jon/Code/corpus-joyce-finnegans-wake-tei...\n",
       "Text B            /home/jon/Code/corpus-joyce-finnegans-wake-tei...\n",
       "Threshold                                                         3\n",
       "Cutoff                                                            5\n",
       "N-Grams                                                           3\n",
       "Num Matches                                                       1\n",
       "Text A Length                                               2637332\n",
       "Text B Length                                                 45234\n",
       "Locations in A                                 [(1220539, 1220594)]\n",
       "Locations in B                                       [(5567, 5622)]\n",
       "Name: 0, dtype: object"
      ]
     },
     "execution_count": 7,
     "metadata": {},
     "output_type": "execute_result"
    }
   ],
   "source": [
    "df.iloc[0]"
   ]
  },
  {
   "cell_type": "markdown",
   "metadata": {},
   "source": [
    "# What parts of Finnegans Wake tend to be quoted? "
   ]
  },
  {
   "cell_type": "code",
   "execution_count": 9,
   "metadata": {},
   "outputs": [],
   "source": [
    "wakeFn = df.iloc[0]['Text A']"
   ]
  },
  {
   "cell_type": "code",
   "execution_count": 10,
   "metadata": {},
   "outputs": [],
   "source": [
    "wake = open(wakeFn).read()"
   ]
  },
  {
   "cell_type": "code",
   "execution_count": 11,
   "metadata": {},
   "outputs": [
    {
     "data": {
      "text/plain": [
       "'<?xml version=\"1.0\" encoding=\"UTF-8\"?>\\n<TEI>\\n   <teiHeader>\\n      <fileDesc/>\\n      <encodingDesc>\\n         <charDecl>\\n            <glyph xml:id=\"ALP\">\\n               <mapping type=\"font\" rendition=\"#'"
      ]
     },
     "execution_count": 11,
     "metadata": {},
     "output_type": "execute_result"
    }
   ],
   "source": [
    "wake[:200]"
   ]
  },
  {
   "cell_type": "code",
   "execution_count": 12,
   "metadata": {},
   "outputs": [
    {
     "data": {
      "text/plain": [
       "2637480"
      ]
     },
     "execution_count": 12,
     "metadata": {},
     "output_type": "execute_result"
    }
   ],
   "source": [
    "len(wake)"
   ]
  },
  {
   "cell_type": "code",
   "execution_count": 13,
   "metadata": {},
   "outputs": [],
   "source": [
    "# Bin locations in A"
   ]
  },
  {
   "cell_type": "code",
   "execution_count": 15,
   "metadata": {},
   "outputs": [],
   "source": [
    "bins = pd.cut(range(len(wake)), 10)"
   ]
  },
  {
   "cell_type": "code",
   "execution_count": 21,
   "metadata": {},
   "outputs": [],
   "source": [
    "allLocations = []\n",
    "for row in df['Locations in A']: \n",
    "    for item in eval(row): \n",
    "        allLocations.append(item[0])"
   ]
  },
  {
   "cell_type": "code",
   "execution_count": 33,
   "metadata": {},
   "outputs": [],
   "source": [
    "counts, bins = np.histogram(allLocations, bins=50)"
   ]
  },
  {
   "cell_type": "markdown",
   "metadata": {},
   "source": [
    "# Number of quotations according to their position in the novel. Chunks of 50. "
   ]
  },
  {
   "cell_type": "code",
   "execution_count": 37,
   "metadata": {},
   "outputs": [
    {
     "data": {
      "text/plain": [
       "<AxesSubplot:>"
      ]
     },
     "execution_count": 37,
     "metadata": {},
     "output_type": "execute_result"
    },
    {
     "data": {
      "image/png": "[encoded data removed]",
      "text/plain": [
       "<Figure size 864x432 with 1 Axes>"
      ]
     },
     "metadata": {
      "needs_background": "light"
     },
     "output_type": "display_data"
    }
   ],
   "source": [
    "pd.Series(counts).plot(kind='bar', figsize=(12, 6))"
   ]
  },
  {
   "cell_type": "code",
   "execution_count": 39,
   "metadata": {},
   "outputs": [
    {
     "data": {
      "text/plain": [
       "743809.7200000001"
      ]
     },
     "execution_count": 39,
     "metadata": {},
     "output_type": "execute_result"
    }
   ],
   "source": [
    "bins[14]"
   ]
  },
  {
   "cell_type": "markdown",
   "metadata": {},
   "source": [
    "[loc for loc in allLocations if loc > 730000 and loc < 760000]"
   ]
  },
  {
   "cell_type": "markdown",
   "metadata": {},
   "source": [
    "## A frequently quoted passage (the most frequently quoted?)"
   ]
  },
  {
   "cell_type": "code",
   "execution_count": 43,
   "metadata": {},
   "outputs": [
    {
     "name": "stdout",
     "output_type": "stream",
     "text": [
      "dictas, visus umbique, ahems and ahahs, imeffible tries at</l>\n",
      "                  <l xml:id=\"L1.7.183.15\">speech unasyllabled, you owe mes, eyoldhyms, fluefoul smut,</l>\n",
      "                  <l xml:id=\"L1.7.183.16\">fallen lucifers, vestas which had served, showered ornaments,</l>\n",
      "                  <l xml:id=\"L1.7.183.17\">borrowed brogues, reversibles jackets, blackeye lenses, family</l>\n",
      "                  <l xml:id=\"L1.7.183.18\">jars, falsehair shirts, Godforsaken scapulars, neverworn breeches,</l>\n",
      "                  <l xml:id=\"L1.7.183.19\">cutthroat ties, counterfeit franks, best intentions, curried notes,</l>\n",
      "                  <l xml:id=\"L1.7.183.20\">upset latten tintacks, unused mill and stumpling stones, twisted</l>\n",
      "                  <l xml:id=\"L1.7.183.21\">quills, painful digests, magnifying wineglasses, solid objects cast</l>\n",
      "                  <l xml:id=\"L1.7.183.22\">at goblins, once current puns, quashed quotatoes, messes of mot-</l>\n",
      "                  <lb break=\"no\"/>\n",
      "                  <l xml:id=\"L1.7.183.23\">tage, unquestionable issue papers, seedy ejaculations, limerick</l>\n",
      "                  <l xml:id=\"L1.7.183.24\">damns, crocodile tears, spilt ink, blasphematory spits, stale shest-</l>\n",
      "                  <lb break=\"no\"/>\n",
      "                  <l xml:id=\"L1.7.183.25\">nuts, schoolgirl's, young ladies', milkmaids', washerwomen's,</l>\n",
      "                  <l xml:id=\"L1.7.183.26\">shopkeepers' wives, merry widows', ex nuns', vice abbess's, pro</l>\n",
      "                  <l xml:id=\"L1.7.183.27\">virgins', super whores', silent sisters', Charleys' aunts', grand-</l>\n",
      "                  <lb break=\"no\"/>\n",
      "                  <l xml:id=\"L1.7.183.28\">mothers', mothers'-in-laws', fostermothers', godmothers' garters,</l>\n",
      "                  <l xml:id=\"L1.7.183.29\">tress clippings from right, lift and cintrum, worms of snot,</l>\n",
      "                  <l xml:id=\"L1.7.183.30\">toothsome pickings, cans of Swiss condensed bilk, highbrow</l>\n",
      "                  <l xml:id=\"L1.7.183.31\">lotions, kisses from the antipodes, presents from pickpockets,</l>\n",
      "                  <l xml:id=\"L1.7.183.32\">borrowed plumes, relaxable handgrips, princess promises, lees of</l>\n",
      "                  <l xml:id=\"L1.7.183.33\">whine, deoxodised carbons, convertible collars, diviliouker</l>\n",
      "                  <l xml:id=\"L1.7.183.34\">doffers, broken wafers, unloosed shoe latchets, crooked strait</l>\n",
      "                  <l xml:id=\"L1.7.183.35\">waistcoats, fresh horrors from Hades, globules of mercury,</l>\n",
      "                  <l xml:id=\"L1.7.183.36\">undeleted glete, glass eyes for an eye, gloss teeth for a tooth,</l>\n",
      "               </div>\n",
      "               <div type=\"page\" n=\"184\">\n",
      "                  <l xml:id=\"L1.7.184.01\">war \n"
     ]
    }
   ],
   "source": [
    "print(wake[746575:749269]) "
   ]
  },
  {
   "cell_type": "markdown",
   "metadata": {},
   "source": [
    "It'd be interesting to compare densities of misspelled words (as detected by `aspell` or equivalent) with incidence of quotations.  \n",
    "\n",
    "But anyway...\n",
    "\n",
    "# Get some article metadata first"
   ]
  },
  {
   "cell_type": "code",
   "execution_count": 268,
   "metadata": {},
   "outputs": [],
   "source": [
    "metadataMap = [('title', 'front//article-title')\n",
    "                       , ('authorLast', 'front//contrib/string-name/surname')\n",
    "                       , ('authorFirst', 'front//contrib/string-name/given-names')\n",
    "                       , ('journal', 'front//journal-title')\n",
    "                       , ('id', 'front//article-id')\n",
    "                       , ('pubYear', 'front/article-meta/pub-date/year')\n",
    "                       , ('pubMonth', 'front/article-meta/pub-date/month')\n",
    "                       , ('pubDay', 'front/article-meta/pub-date/day')]\n",
    "\n",
    "def getMeta(textBFilename): \n",
    "    xmlFilename = textBFilename.replace('/ocr/', '/metadata/').replace('.txt', '.xml')\n",
    "    xmlRoot = ET.parse(open(xmlFilename)).getroot()\n",
    "    metadata = {}\n",
    "    for label, path in metadataMap:\n",
    "        try: \n",
    "            datum = xmlRoot.find(path).text\n",
    "        except: \n",
    "            datum = \"\"\n",
    "        metadata[label] = datum\n",
    "    return metadata"
   ]
  },
  {
   "cell_type": "code",
   "execution_count": 269,
   "metadata": {},
   "outputs": [],
   "source": [
    "df['meta'] = df['Text B'].apply(getMeta)"
   ]
  },
  {
   "cell_type": "code",
   "execution_count": 270,
   "metadata": {},
   "outputs": [],
   "source": [
    "for label in [pair[0] for pair in metadataMap]:\n",
    "    df[label] = df['meta'].apply(lambda x: x[label])"
   ]
  },
  {
   "cell_type": "code",
   "execution_count": 271,
   "metadata": {},
   "outputs": [
    {
     "data": {
      "text/plain": [
       "[<Element 'day' at 0x7fe012416e00>,\n",
       " <Element 'month' at 0x7fe012416e50>,\n",
       " <Element 'year' at 0x7fe012416ea0>]"
      ]
     },
     "execution_count": 271,
     "metadata": {},
     "output_type": "execute_result"
    }
   ],
   "source": [
    "list(xmlarticle.find('front/article-meta/pub-date'))"
   ]
  },
  {
   "cell_type": "markdown",
   "metadata": {},
   "source": [
    "# Most frequent authors of quoting articles"
   ]
  },
  {
   "cell_type": "code",
   "execution_count": 263,
   "metadata": {},
   "outputs": [
    {
     "data": {
      "text/plain": [
       "Benstock       9\n",
       "Norris         5\n",
       "               3\n",
       "Morse          3\n",
       "Beckman        3\n",
       "              ..\n",
       "Quartermain    1\n",
       "RODRIGUEZ      1\n",
       "Bowers         1\n",
       "Mays           1\n",
       "Worthington    1\n",
       "Name: authorLast, Length: 152, dtype: int64"
      ]
     },
     "execution_count": 263,
     "metadata": {},
     "output_type": "execute_result"
    }
   ],
   "source": [
    "df['authorLast'].value_counts()"
   ]
  },
  {
   "cell_type": "markdown",
   "metadata": {},
   "source": [
    "# Most frequent journals of quoting articles"
   ]
  },
  {
   "cell_type": "code",
   "execution_count": 264,
   "metadata": {},
   "outputs": [
    {
     "data": {
      "text/plain": [
       "James Joyce Quarterly              59\n",
       "European Joyce Studies             23\n",
       "Joyce Studies Annual               21\n",
       "Journal of Modern Literature        8\n",
       "Modern Fiction Studies              5\n",
       "ELH                                 5\n",
       "James Joyce Literary Supplement     4\n",
       "PMLA                                4\n",
       "James Joyce Broadsheet              3\n",
       "Irish University Review             3\n",
       "Name: journal, dtype: int64"
      ]
     },
     "execution_count": 264,
     "metadata": {},
     "output_type": "execute_result"
    }
   ],
   "source": [
    "df['journal'].value_counts().head(10)"
   ]
  },
  {
   "cell_type": "code",
   "execution_count": 265,
   "metadata": {},
   "outputs": [
    {
     "data": {
      "text/plain": [
       "b'<foo><bar>hello</bar></foo>'"
      ]
     },
     "execution_count": 265,
     "metadata": {},
     "output_type": "execute_result"
    }
   ],
   "source": [
    "tostring(E.foo(E.bar('hello')))"
   ]
  },
  {
   "cell_type": "markdown",
   "metadata": {},
   "source": [
    "# Publication date ranges"
   ]
  },
  {
   "cell_type": "code",
   "execution_count": 281,
   "metadata": {},
   "outputs": [
    {
     "data": {
      "text/plain": [
       "<AxesSubplot:>"
      ]
     },
     "execution_count": 281,
     "metadata": {},
     "output_type": "execute_result"
    },
    {
     "data": {
      "image/png": "[encoded data removed]",
      "text/plain": [
       "<Figure size 432x288 with 1 Axes>"
      ]
     },
     "metadata": {
      "needs_background": "light"
     },
     "output_type": "display_data"
    }
   ],
   "source": [
    "df['pubYear'].apply(lambda x: int(x) if x !='' else np.NaN).plot(kind='box')"
   ]
  },
  {
   "cell_type": "markdown",
   "metadata": {},
   "source": [
    "## Let's export these text matches to TEI\n",
    "\n",
    "Use this structure: \n",
    "\n",
    "```xml\n",
    "<?xml version=\"1.0\" encoding=\"utf-8\"?>\n",
    "<standOff type=\"textMatching\">\n",
    "\n",
    "  <listBibl>\n",
    "    <biblStruct xml:id=\"id-in-criticism\">\n",
    "      <!-- bibliographic stuff here -->\n",
    "    </biblStruct>\n",
    "  </listBibl>\n",
    "\n",
    "  <linkGrp>\n",
    "    <!-- for each match -->\n",
    "    <link target=\"string-range(#id-in-FW, start, end) string-range(#id-in-criticism, start, end)\" />\n",
    "    <!-- end for -->\n",
    "    </linkGrp>\n",
    "</standOff>\n",
    "```"
   ]
  },
  {
   "cell_type": "code",
   "execution_count": 177,
   "metadata": {},
   "outputs": [
    {
     "data": {
      "text/plain": [
       "b'<standOff type=\"textMatching\"><listBibl>heyo</listBibl></standOff>'"
      ]
     },
     "execution_count": 177,
     "metadata": {},
     "output_type": "execute_result"
    }
   ],
   "source": [
    "tostring(E.standOff(E.listBibl(bibls), E.linkGrp(links), type='textMatching'))"
   ]
  },
  {
   "cell_type": "code",
   "execution_count": 184,
   "metadata": {},
   "outputs": [
    {
     "data": {
      "text/plain": [
       "'[(1220539, 1220594)]'"
      ]
     },
     "execution_count": 184,
     "metadata": {},
     "output_type": "execute_result"
    }
   ],
   "source": [
    "df.iloc[0]['Locations in A']"
   ]
  },
  {
   "cell_type": "code",
   "execution_count": 255,
   "metadata": {},
   "outputs": [],
   "source": [
    "def makeLinks(row): \n",
    "    aLocs = eval(row['Locations in A'])\n",
    "    bLocs = eval(row['Locations in B'])\n",
    "    for locsA, locsB in zip(aLocs, bLocs):\n",
    "        startA, endA = locsA\n",
    "        startB, endB = locsB\n",
    "        jstorId = row['id']\n",
    "        yield E.link(target=f'string-range(#FW, {startA}, {endA}) string-range(#jstor{jstorId}, {startB}, {endB})')"
   ]
  },
  {
   "cell_type": "code",
   "execution_count": 288,
   "metadata": {},
   "outputs": [],
   "source": [
    "allLinks = []\n",
    "for i, row in df.iterrows(): \n",
    "    links = makeLinks(row)\n",
    "    for link in links: \n",
    "        allLinks.append(link)"
   ]
  },
  {
   "cell_type": "code",
   "execution_count": 305,
   "metadata": {},
   "outputs": [],
   "source": [
    "linkGrp = E.linkGrp(*allLinks)"
   ]
  },
  {
   "cell_type": "code",
   "execution_count": 385,
   "metadata": {},
   "outputs": [],
   "source": [
    "def makeBibl(row, jstor=True): \n",
    "    jstorId = row.get('id')\n",
    "    date = row['pubYear'] + '-' + row['pubMonth'] + '-' + row['pubDay']\n",
    "    title = row.get('title', '')\n",
    "    authorLast = row.get('authorLast', '')\n",
    "    authorFirst = row.get('authorFirst', '')\n",
    "    journal = row.get('journal', '')\n",
    "    authorElem = E.author(E.persName(E.surname(authorLast), E.forename(authorFirst)))\n",
    "    dateElem = E.date(when=date)\n",
    "    if title is not None: \n",
    "        titleElem = E.title(title)\n",
    "    else: \n",
    "        titleElem = E.title('')\n",
    "    bibl = E.bibl(E.analytic(titleElem, authorElem), E.monog(E.title(journal), dateElem), type='article')\n",
    "    if jstor: \n",
    "        bibl.attrib['id'] = '#jstor'+jstorId\n",
    "    else: \n",
    "        bibl.attrib['id'] = row['id']\n",
    "    return bibl"
   ]
  },
  {
   "cell_type": "code",
   "execution_count": 386,
   "metadata": {},
   "outputs": [
    {
     "data": {
      "text/plain": [
       "b'<bibl type=\"article\" id=\"#jstor10.2307/461804\"><analytic><title>Originality and Repetition in Finnegans Wake and Ulysses</title><author><persName><surname>Levine</surname><forename>Jennifer Schiffer</forename></persName></author></analytic><monog><title>PMLA</title><date when=\"1979-1-1\"/></monog></bibl>'"
      ]
     },
     "execution_count": 386,
     "metadata": {},
     "output_type": "execute_result"
    }
   ],
   "source": [
    "tostring(makeBibl(df.iloc[75]))"
   ]
  },
  {
   "cell_type": "code",
   "execution_count": 387,
   "metadata": {},
   "outputs": [
    {
     "data": {
      "text/plain": [
       "Text A            /home/jon/Code/corpus-joyce-finnegans-wake-tei...\n",
       "Text B            /home/jon/Code/corpus-joyce-finnegans-wake-tei...\n",
       "Threshold                                                         3\n",
       "Cutoff                                                            5\n",
       "N-Grams                                                           3\n",
       "Num Matches                                                       1\n",
       "Text A Length                                               2637332\n",
       "Text B Length                                                 45234\n",
       "Locations in A                                 [(1220539, 1220594)]\n",
       "Locations in B                                       [(5567, 5622)]\n",
       "meta              {'title': 'The Language of Flows: Fluidity, Vi...\n",
       "title             The Language of Flows: Fluidity, Virology, and...\n",
       "authorLast                                                     Eide\n",
       "authorFirst                                                  Marian\n",
       "journal                                       James Joyce Quarterly\n",
       "id                                                         25473839\n",
       "pubDate                                              \\n            \n",
       "pubYear                                                        1997\n",
       "pubMonth                                                          7\n",
       "pubDay                                                            1\n",
       "Name: 0, dtype: object"
      ]
     },
     "execution_count": 387,
     "metadata": {},
     "output_type": "execute_result"
    }
   ],
   "source": [
    "df.iloc[0]"
   ]
  },
  {
   "cell_type": "code",
   "execution_count": 388,
   "metadata": {},
   "outputs": [],
   "source": [
    "fwBibl = makeBibl({'title': \"Finnegans Wake\", \"authorLast\": \"Joyce\", \"authorFirst\": \"James\",\n",
    "                  'pubYear': '1939', 'pubMonth': '5', 'pubDay': '4', 'id': '#FW'}, jstor=False)"
   ]
  },
  {
   "cell_type": "code",
   "execution_count": 389,
   "metadata": {},
   "outputs": [
    {
     "data": {
      "text/plain": [
       "b'<bibl type=\"article\" id=\"#FW\"><analytic><title>Finnegans Wake</title><author><persName><surname>Joyce</surname><forename>James</forename></persName></author></analytic><monog><title></title><date when=\"1939-5-4\"/></monog></bibl>'"
      ]
     },
     "execution_count": 389,
     "metadata": {},
     "output_type": "execute_result"
    }
   ],
   "source": [
    "tostring(fwBibl)"
   ]
  },
  {
   "cell_type": "code",
   "execution_count": 390,
   "metadata": {},
   "outputs": [],
   "source": [
    "bibls = []\n",
    "for i, row in df.iterrows():\n",
    "    bibls.append(makeBibl(row))\n",
    "bibls = [fwBibl] + bibls"
   ]
  },
  {
   "cell_type": "code",
   "execution_count": 391,
   "metadata": {},
   "outputs": [],
   "source": [
    "listBibls = E.listBibl(*bibls)"
   ]
  },
  {
   "cell_type": "code",
   "execution_count": 392,
   "metadata": {},
   "outputs": [],
   "source": [
    "standoff = E.standOff(listBibls, linkGrp, type='textMatching')"
   ]
  },
  {
   "cell_type": "code",
   "execution_count": 393,
   "metadata": {},
   "outputs": [],
   "source": [
    "bytesOut = tostring(standoff, encoding='utf8', pretty_print=True, xml_declaration=True)"
   ]
  },
  {
   "cell_type": "code",
   "execution_count": 394,
   "metadata": {},
   "outputs": [
    {
     "data": {
      "text/plain": [
       "105872"
      ]
     },
     "execution_count": 394,
     "metadata": {},
     "output_type": "execute_result"
    }
   ],
   "source": [
    "open('matches.tei.xml', 'wb').write(bytesOut)"
   ]
  },
  {
   "cell_type": "code",
   "execution_count": null,
   "metadata": {},
   "outputs": [],
   "source": []
  }
 ],
 "metadata": {
  "kernelspec": {
   "display_name": "Python 3",
   "language": "python",
   "name": "python3"
  },
  "language_info": {
   "codemirror_mode": {
    "name": "ipython",
    "version": 3
   },
   "file_extension": ".py",
   "mimetype": "text/x-python",
   "name": "python",
   "nbconvert_exporter": "python",
   "pygments_lexer": "ipython3",
   "version": "3.8.5"
  }
 },
 "nbformat": 4,
 "nbformat_minor": 4
}
