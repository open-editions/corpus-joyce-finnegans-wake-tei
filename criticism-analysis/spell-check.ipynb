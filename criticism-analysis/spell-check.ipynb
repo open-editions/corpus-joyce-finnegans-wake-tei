{
 "cells": [
  {
   "cell_type": "code",
   "execution_count": 118,
   "metadata": {},
   "outputs": [],
   "source": [
    "import enchant\n",
    "from enchant.checker import SpellChecker\n",
    "from bs4 import BeautifulSoup\n",
    "import numpy as np\n",
    "import pandas as pd\n",
    "import plotly.express as px\n",
    "import textwrap\n",
    "import spacy\n",
    "import langdetect\n",
    "from collections import Counter\n",
    "import re"
   ]
  },
  {
   "cell_type": "code",
   "execution_count": 2,
   "metadata": {},
   "outputs": [],
   "source": [
    "nlp = spacy.load('en_core_web_lg', max_length=2000000)"
   ]
  },
  {
   "cell_type": "code",
   "execution_count": 3,
   "metadata": {},
   "outputs": [],
   "source": [
    "def removeEnts(text): \n",
    "    textDoc = nlp(text)\n",
    "    noEnts = [w for w in textDoc if w.ent_type_ == '']\n",
    "    noEntsTexts = [str(w) for w in noEnts]\n",
    "    return ' '.join(noEntsTexts)"
   ]
  },
  {
   "cell_type": "code",
   "execution_count": 4,
   "metadata": {},
   "outputs": [],
   "source": [
    "def getMisspelled(text): \n",
    "    checker = SpellChecker('en_GB')    \n",
    "    noEnts = removeEnts(text)\n",
    "    checker.set_text(noEnts)\n",
    "    misspelledWords = []\n",
    "    for w in checker: \n",
    "        misspelledWords.append(w.word)\n",
    "    return misspelledWords\n",
    "\n",
    "def getNumMisspelled(text): \n",
    "    return len(getMisspelled(text))"
   ]
  },
  {
   "cell_type": "code",
   "execution_count": 98,
   "metadata": {},
   "outputs": [],
   "source": [
    "wake = open('../finnegans-wake-tei/finnegans-wake.xml').read()\n",
    "soup = BeautifulSoup(wake)\n",
    "wakeText = soup.get_text()[1055:]"
   ]
  },
  {
   "cell_type": "code",
   "execution_count": 86,
   "metadata": {},
   "outputs": [],
   "source": [
    "ulysses = open('/home/jon/Dokumentujo/Research/Corpora/pg-text/1922-JoyceJames-Ulysses-4300.0').read()"
   ]
  },
  {
   "cell_type": "code",
   "execution_count": 119,
   "metadata": {},
   "outputs": [
    {
     "data": {
      "text/plain": [
       "['-- I --', '-- II --', '-- III --']"
      ]
     },
     "execution_count": 119,
     "metadata": {},
     "output_type": "execute_result"
    }
   ],
   "source": [
    "re.findall('-- .*? --', ulysses)"
   ]
  },
  {
   "cell_type": "code",
   "execution_count": 113,
   "metadata": {},
   "outputs": [],
   "source": [
    "def getSegments(text, n=50):\n",
    "    binA = list(range(0, len(text), round(len(text)/n)))\n",
    "    ranges = list((zip(binA, binA[1:])))\n",
    "    segments = []\n",
    "    for i, j in ranges: \n",
    "        segments.append(text[i:j])\n",
    "    return segments"
   ]
  },
  {
   "cell_type": "code",
   "execution_count": 114,
   "metadata": {},
   "outputs": [],
   "source": [
    "def misspelledDf(text): \n",
    "    segments = getSegments(text)\n",
    "    misspelledN = [getNumMisspelled(seg) for seg in segments]\n",
    "    s = pd.Series(misspelledN) #.plot(kind='bar')\n",
    "    df = pd.DataFrame(s, index=s.index, columns=['nMisspelled'])\n",
    "    df['segment'] = df.index\n",
    "    previews = [textwrap.wrap(seg[:150], 40) for seg in segments]\n",
    "    df['previews'] = previews\n",
    "    misspelled = [' '.join(getMisspelled(seg))[:150] for seg in segments]\n",
    "    df['misspelled'] = misspelled\n",
    "    return df"
   ]
  },
  {
   "cell_type": "code",
   "execution_count": 115,
   "metadata": {},
   "outputs": [],
   "source": [
    "def plotMisspelled(text): \n",
    "    df = misspelledDf(text)\n",
    "    fig = px.bar(df, x='segment', y='nMisspelled', hover_data=['previews', 'misspelled'])\n",
    "    fig.show()"
   ]
  },
  {
   "cell_type": "code",
   "execution_count": 109,
   "metadata": {},
   "outputs": [
    {
     "data": {
      "application/vnd.plotly.v1+json": {
       "config": {
        "plotlyServerURL": "https://plot.ly"
       },
       "data": [
        {
         "alignmentgroup": "True",
         "customdata": [
          [
           [
            "    riverrun, past Eve and Adam's, from",
            "swerve of shore to bend of bay, brings",
            "us by a commodius vicus of recirculation",
            "back to Howth Castle and Envir"
           ],
           "riverrun commodius vicus recirculation passen rearrived wielderfight penisolate topsawyer themselse gorgios bellowsed venissoon buttended vanessy aqua"
          ],
          [
           [
            "ugh for rings round them, during a",
            "chiliad of perihelygangs, the Formoreans",
            "have brittled the too-  ath of the Danes",
            "and the Oxman has been pestered b"
           ],
           "chiliad brittled ath jerrybuilding Kevan ses childsfather laughtears paxsealing whafft babbelers thangas confusium thigging hou norgels pollyfool fian"
          ],
          [
           [
            "for the books and never pegging smashers",
            "after Tom Bowe Glassarse or Timmy the",
            "Tosser. 'Tisraely the truth! No isn't",
            "it, roman pathoricks? You were"
           ],
           "n't doublejoynted grandfer ritehand doat oghres schoolbelt olde tarandtan plaidboy encostive inkum lavings bourseday tourch ruddyberry redminers woods"
          ],
          [
           [
            " sake!) hands between hahands, in fealty",
            "sworn (my bravor best! my fraur!) and,",
            "to the strains of The Secret of Her",
            "Birth, hushly pierce the rubiend a"
           ],
           "fraur aurellum layteacher orthophonethics nearstout hippic runfields rememberance stablecloth portey purpular phantomweight toppitt maggies pisononse "
          ],
          [
           [
            ", as he, so is a supper as is a sipper,",
            "spake of the One and told of the",
            "Compassionate, called up before the",
            "triad of precoxious scaremakers",
            "(scoretak"
           ],
           "precoxious scaremakers scoretaking bellulo rispondas fraulino ushere doyne de trailmost soorkabatcha latitu puggaree fourinhand elbaroom surtout unman"
          ],
          [
           [
            "d jumphet to the tiltyard from the",
            "wastes a'sleep in his obi ohny",
            "overclothes or choker, attracted by the",
            "norse of guns playing Delandy is",
            "cartager on"
           ],
           "jumphet tiltyard ohny overclothes norse cartager raglar wealthes mor mon byelo pandywhank oonagh belzey martiallawsey marses musi instrumongs Pompery "
          ],
          [
           [
            "ppey might to you cuttinrunner on a neuw",
            "pack of klerds, made him, while his body",
            "still persisted, their present of a",
            "protem grave in Moyelta of the b"
           ],
           "cuttinrunner neuw klerds protem Neagh limniphobes kettlekerry dutchy troutbeck sillying peater arripple somnolulutent curst wastohavebeen architecht o"
          ],
          [
           [
            "o cognitively conatively cogitabun-",
            "dantly sure of it because, living,",
            "loving, breathing and sleeping",
            "morphomelosophopancreates, as he most",
            "significa"
           ],
           "cogitabun dantly morphomelosophopancreates truies blouseman pediculously A'Quite Szer twithcherous att tenyerdfuul aastalled jobbera majar tumblerous "
          ],
          [
           [
            "of D. Blayncy's trilingual triweekly,",
            "Scatterbrains' Aften-  ing Posht, so as",
            "to make certain sure onetime and be",
            "satisfied of their quasicontribusoda"
           ],
           "trilingual triweekly Aften ing Posht atalaclamoured Pozor Buddaree morrowing unrescued patriate aslike asnake sliduant oaktree liquidamber resipiency "
          ],
          [
           [
            "anewanting human lioness with her",
            "dishorned discipular manram will lie",
            "down together publicly flank upon",
            "fleece. No, assuredly, they are not",
            "justified"
           ],
           "dishorned Misthress anomo teasy nosibos jotty fols falli nadianods strow blague recting robur fansaties frizette graith uncouthre ment postmantuam gla"
          ],
          [
           [
            "a singleminded men's asylum, accentuated",
            "by bi tso fb rok engl a ssan dspl itch",
            "ina, — Yard inquiries pointed out → that",
            "they ad bîn \"provoked\" ay  fo"
           ],
           "singleminded bîn ay àth ùpon sù fàç'e ingh smearbread newlaidills pneuma mon peerer fourleaved Partlet dungheap waterung shyme lettermaking explots ac"
          ],
          [
           [
            "he appeared to his shecook as Haycock,",
            "Emmet, Boaro, Toaro, Osterich, Mangy and",
            "Skunk; pressed the beer of aled age out",
            "of the nettles of rashness; pu"
           ],
           "shecook coq dapifer pancircensor topes packetboat Tortur brugh youngheaded dafe duv pitchin Koenig tronf comf priv vaguum moultain boultter lumin succ"
          ],
          [
           [
            "effect. For Rut-  land blue's got out of",
            "passion. So, so, my precious! O, I can",
            "see the cost, chare! Don't tell me! Why,",
            "the boy in sheeps' lane knows"
           ],
           "chare n't sheeps n't juliettes n't n't aucthor significat exsystems nieu nivulon trouchorous gibos bosso sorrasims Uian n't alpin charmermaid marfello"
          ],
          [
           [
            "tender) Vux Populus, as we say in",
            "hickory-  hockery and I wish we had some",
            "more glasses of arbor vitae. Why roat by",
            "the roadside or awn over alum pot?"
           ],
           "arbor n't jones wildsbillow supersocks publicked bestback laetification siderodromites unenglish billfaust nite wantnot Wilsh deblinite funcktas srump"
          ],
          [
           [
            "h, lives on loans and is furtivefree",
            "yours of age? with-  out one sigh of",
            "haste like the supreme prig he was, and",
            "not a bit sorry, he would pull a vac"
           ],
           "furtivefree pensile lauscher prattlepate parnella deadbest tamileasy samtalaisy agri philanthropicks panesthetic swrine tarabooming poh visanvrerssas "
          ],
          [
           [
            "Father Flammeus Falconer, boycotted him",
            "of all mutton-  suet candles and",
            "romeruled stationery for any purpose, he",
            "winged away on a wildgoup's chase ac"
           ],
           "romeruled wildgoup blushfed porporates dunsky tunga Primum et cuncti potentem suscepto perizomatis uti deiectiones suas tristitiae posuit invocatione "
          ],
          [
           [
            "hoot swift up her sheba sheath, like any",
            "gay lord salomon, her bulls they were",
            "ruhring, surfed with spree. Boyarka",
            "buah! Boyana bueh! He erned his lil"
           ],
           "ruhring erned lille staly n't kaldt codfisck ee Ay ing Gota limmat wonced laddery dextro coneywink n't absantee proxenete phthat jarkon langua examplu"
          ],
          [
           [
            "led she fleetly laid at our door! On the",
            "matt, by the pourch and in-  under the",
            "cellar. The rivulets ran aflod to see,",
            "the glashaboys, the pollynootie"
           ],
           "pourch aflod glashaboys pollynooties paunschaup ingenuinas artesaned wellings Annchen sula Ausone sidulcis n't tambre chir jary maundy meerschaundize "
          ],
          [
           [
            "ly gra-  cious: Mi, O la!), and reloose",
            "that thong off his art: Hast thou feel",
            "liked carbunckley ones? Apun which his",
            "poohoor pricoxity theirs   is a"
           ],
           "reloose poohoor pricoxity tittertit wordchary atvoiced ringsoundinly ensembled ulstramarines Warewolff Olff olff topheetuck ankered prest whatarcurss "
          ],
          [
           [
            " seamist inso one) as leichtly as see",
            "saw (O my goodmiss! O my greatmess! O my",
            "prizelestly preshoes!) while, dewyfully",
            "as dimb dumbelles, all alisten"
           ],
           "seamist inso leichtly goodmiss greatmess prizelestly preshoes alisten Enchainted Stainusless herehear salutamt unschoold pageantmaster softmis sives b"
          ],
          [
           [
            "ll ye na pick them in their pink of",
            "panties. You can colour up till you're",
            "prawn while I go squirt with any cockle.",
            "When here who adolls me infuxes"
           ],
           "na backsight greeneyed viewmarc breathings glittergates herof therebeneath breathings fondance uniomargrits consonantia herup aba vibroverberates tegm"
          ],
          [
           [
            "NISM.      seldomers that most frequent",
            "him. That same erst crafty hakemouth",
            "which under the assumed name of Ignotus",
            "Loquor, of foggy old, harangued b"
           ],
           "seldomers hakemouth favorite theo incenstrobed smellpex ostrogothic wartem Castil Saaleddies warken loth pleasestir inkbottle solarsystemised seriol a"
          ],
          [
           [
            "w to call the cattle black. Moopetsi",
            "meepotsi.        5 I was so snug off in",
            "my apholster's creedle but at long leash",
            "I'll stretch more capritious in"
           ],
           "creedle capritious dapplepied lisplips liss hunterland twoheaded dul carnons pulfers Omnitudes knutshedell abso stown SIGNIFI sevencoloured Ochone imp"
          ],
          [
           [
            "them, (o.p.) to steeplechange back once",
            "from their ophis workship and twice on",
            "sundises, to their ancient flash and",
            "crash habits of old Pales time ere"
           ],
           "steeplechange ophis workship outa th'Empyre righthand interlooking pum hoc doombody ostrovgods eitherways descendance priesto puddywhack molniacs made"
          ],
          [
           [
            "ates.2 This is brave Danny weeping his",
            "spache for the popers. This is cool",
            "Connolly wiping his hearth with brave",
            "Danny. And this, regard! how Chawlese"
           ],
           "spache popers parparaparnelligoes L'arty Prouf puppadums paraboles famellicurbs triperforator awlrite pergaman blessted selfchuruls unpious hairydary "
          ],
          [
           [
            "meeds be the hourihorn), hibernia-  ting",
            "after seven oak ages, fearsome where",
            "they were he had gone dump in the",
            "doomering this tide where the peixies"
           ],
           "meeds hourihorn doomering sess boelgein locquor overus ballshee niggerhead fitten mer kins povotogesus portocall furt hurdies sayd kumpavin iceslant h"
          ],
          [
           [
            "ey with the room in herberge down to",
            "forkpiece and bucklecatch, (Elding, my",
            "elding! and Lif, my lif!) in the pravacy",
            "of the pirmanocturne, hap, sayd h"
           ],
           "ey herberge forkpiece bucklecatch elding lif pravacy pirmanocturne sayd sayd fyrsty annas everso thried swumped seachest mallyme emmas brottels taylig"
          ],
          [
           [
            " of the drumbume of a narse. Guards,",
            "serf Finnland, serve we all!      TAFF",
            "(whatwidth the psychophannies at the",
            "front and whetwadth   the psuckofumbe"
           ],
           "drumbume narse whatwidth psychophannies psuckofumbers bulchri chudes roshashanaral Ribboncake pollex prized justso fannacies daintied showlaced limbal"
          ],
          [
           [
            "bung goes the enemay the Percy rally got",
            "me, messger, (as true as theirs an",
            "Almagnian Gothabobus!) to blow the grand",
            "off his aceupper. Thistake it's m"
           ],
           "enemay aceupper Thistake meest insurrectioned procuratress sleever Tumbleheaver camelsensing sonce wellbred umzemlianess preceedings autosotorisation "
          ],
          [
           [
            "o you low, marchers! Attemption! What a",
            "mazing month of budsome misses they are",
            "making, so wingty-  wish to flit beflore",
            "their kin! Attonsure! Ears to"
           ],
           "wingty beflore skall yawpens papertreated hocksheat starvision avrageto conscraptions asservent perfectpeace abwaited intectis perensempry othour knig"
          ],
          [
           [
            "mp, Powell! Clean over all their heads.",
            "We could kiss him for that one, couddled",
            "we, Huggins? Sparkes is the footer to",
            "hance off nancies. Scaldhead, p"
           ],
           "couddled nancies burryberries massus kinn softing soullfriede ating easter greeding keykeeper dreamadoory saysaith helo gattling ropen noosebag schlym"
          ],
          [
           [
            "Roman history, of Latimer repeating",
            "himself, from the vicerine of Lord Hugh,",
            "the Lacytynant, till Bockleyshuts the",
            "rah-  jahn gerachknell and regnumro"
           ],
           "vicerine Bockleyshuts oceanfuls forgetmenots abijance pioja earnasyoulearning growback Moonster matther Flure gynecollege Janesdanes Anders auld unita"
          ],
          [
           [
            " so swayed a will of a wisp before me,",
            "hand prop to hand, prompt side to the",
            "pros, dressed like an earl in just the",
            "correct wear, in a classy mac Frie"
           ],
           "suparior ferrier freeswinging scotsmost sparable softrolling sealingwax twentytwo krasnapopp boheem damasker overshirt starspangled crinklydoodle embr"
          ],
          [
           [
            "joust as sieck as a sexton and tantoo",
            "pooveroo quant a churchprince, and wheer",
            "the midges to wend hemsylph or vosch to",
            "sirch for grub for his corapuss"
           ],
           "churchprince wheer sirch volomundo osi vide vide pickopeck muscow tittlebits contrited melan sluggered whilepaper lustres de voured styearcases mensas"
          ],
          [
           [
            "eplug of filiality reinsure your",
            "bunghole! May the barleywind behind glow",
            "luck to your bathershins! 'Tis well we",
            "know you were loth to leave us, windi"
           ],
           "reinsure Tis loth aruah dreambookpage blankmerges goodship knockside trampthickets Jaun cothurminous preambler hosen footgear planemetrically cotted j"
          ],
          [
           [
            "ted sauce. Sifted science will do your",
            "arts good. Egg Laid by Former Cock and",
            "With Flageolettes in Send   Fanciesland.",
            "Chiefly girls. Trip over sacram"
           ],
           "Flageolettes Fanciesland saucerdotes instructual bittermint soughts balmoil schizmatics hemd mouthshine vesta underclothed forstake Whisht happytight "
          ],
          [
           [
            "g, I never could tell the leest",
            "falsehood that would truthfully give",
            "sotisfiction. I'm not talking apple",
            "sauce eithou. Or up in my hat. I earnst.",
            "Schu"
           ],
           "sotisfiction earnst correspondance besated thauthor phono th'ether tis tramsported hoppy plow profund efferfreshpainted livy pharoph nextfirst ramesch"
          ],
          [
           [
            " I pass no remark. Hope he hasn't the",
            "cholera. Give him an eyot in the farout.",
            "Moseses and Noasies, how are you? He'd",
            "be as snug as Columbsisle Jonas"
           ],
           "n't eyot farout wrocked whaves quotad anysides cankle breans annyone oweand chems yemploy coppy n't marmade flamme leal aboo omportent piedish schinke"
          ],
          [
           [
            "uiting that personer in his fallen. And",
            "a crack quat-  youare of stenoggers they",
            "made of themselves, solons and psy-",
            "chomorers, all told, with their"
           ],
           "quat youare stenoggers solons psy daimons asprawl amengst bedeave oscasleep whatall tis starmenag mack ensorcelled mamalujo groupography quarterings c"
          ],
          [
           [
            " Fullgrapce for an endupper, half muxy",
            "on his whole! Would he were even among",
            "the lost! From ours bereft beyond be-",
            "longs. Oremus poor fraternibus th"
           ],
           "endupper muxy gallews airse sameplace sopjack fosther roamin teetotum asamed ashunned harican Outpassed pertimes moonshane shemblable otiumic saywhen "
          ],
          [
           [
            "By snaachtha clocka. The nicest at all.",
            "In hilly-and-even zimalayars.     — Did",
            "it not blow some gales, westnass or",
            "ostscent, rather strongly to less,"
           ],
           "ostscent jusse sprungen galumphantes Stll cllng Nmr highlucky nackt pritty geallachers datey Latearly Latearly Latearly Latearly latterlig frostwork h"
          ],
          [
           [
            "rful! Come, delicacy! Go to the end,",
            "thou slackerd! Once upon a grass and a",
            "hopping high grass it was.     — Faith,",
            "then, Meesta Cheeryman, first he"
           ],
           "rful slackerd wesz MacSmashall Swingy ragamufflers perusual ner mrowkas weevilybolly nagles coocoomb sirr n't awethorrorty wolfling thoult kanes faket"
          ],
          [
           [
            "ke's named moke. Doggymens' nimmer win!",
            "You last led the first when we last but",
            "we'll first trump your last with a",
            "lasting. Jump the railchairs or tak"
           ],
           "railchairs foxyjack Ye've skullabogue caldron kalebrose sandsteen brandnew braintrust compellably empanelled uniformication Underfifteen Mirtha dreepe"
          ],
          [
           [
            "l-  bobs have gone from the mode and",
            "hairtrigger nicks are quite out of time",
            "now. Thuggeries are reere as glovars'",
            "metins, lepers lack, ignerants show"
           ],
           "hairtrigger reere ignerants bitterhalves mallsight kepp poudies segn skivs centripunts havd habt seaventy seavens inkeptive fordrock chort wherewithou"
          ],
          [
           [
            " paddypalace on the crossknoll with",
            "massgo bell, sixton clashcloshant,",
            "duominous and muezzatinties to commind",
            "the fit-  ful: doom adimdim adoom adimad"
           ],
           "paddypalace crossknoll ful adimdim adoom adimadim oragel posied pewmillieu tararulled bon altarstane mossyhonours sleetshowers ing vergin alphabeater "
          ],
          [
           [
            " honty bottomsside pap pap pappa.     —",
            "Li ne dormis?      — S! Malbone dormas.",
            "    — Kia li krias nikte?      — Parolas",
            "infanetes. S!       Sonly al"
           ],
           "honty pappa Malbone dormas nikte infanetes Sonly elvery seling nightmail afarfrom pickts saxums hosties gallpitch lilygem sleepingchambers seneschals "
          ],
          [
           [
            "nt garden: monk and sempstress, in",
            "sackcloth silkily: curious dreamers,",
            "curious dramas, curious deman, plagiast",
            "dayman, playajest dearest, plaguiest d"
           ],
           "nt strangfort karkery dryflooring leperties laddos blump slogo snorring villen brunzewig caspian pharrer livite hedcosycasket wollsey shirtplisse peas"
          ],
          [
           [
            "ly. Next, upon due reflotation, up",
            "started four hurrigan gales to",
            "smithereen his plateglass house-  walls",
            "and the slate for accounts his keeper",
            "was co"
           ],
           "ly reflotation counterbezzled hussites sconded barleystraw explosium deafadumped heptark bankrump ohoho policist covenanter falseheaven ultraviolent s"
          ],
          [
           [
            "coloured milk train on the fartykket",
            "plan run with its endless gallaxion of",
            "rotatorattlers and the smool-  troon our",
            "elderens rememberem as the scream"
           ],
           "fartykket gallaxion rotatorattlers smool waggonwobblers everdue Ecclesia aubrey primace aboil Eyr onebut insels increate tim ber heeler wethers lapful"
          ],
          [
           [
            "e staired up the step after it's the",
            "power of the gait. His giantstand of",
            "manun-  known. No brad wishy washy wathy",
            "wanted neither! Once you are ballad"
           ],
           "staired giantstand manun wishy unperceable Ruggers Finckers hizzars ploose concloose thoose epoostles ourselfsake whool lovesend pockle giddersh ve ch"
          ]
         ],
         "hovertemplate": "segment=%{x}<br>nMisspelled=%{y}<br>previews=%{customdata[0]}<br>misspelled=%{customdata[1]}<extra></extra>",
         "legendgroup": "",
         "marker": {
          "color": "#636efa"
         },
         "name": "",
         "offsetgroup": "",
         "orientation": "v",
         "showlegend": false,
         "textposition": "auto",
         "type": "bar",
         "x": [
          0,
          1,
          2,
          3,
          4,
          5,
          6,
          7,
          8,
          9,
          10,
          11,
          12,
          13,
          14,
          15,
          16,
          17,
          18,
          19,
          20,
          21,
          22,
          23,
          24,
          25,
          26,
          27,
          28,
          29,
          30,
          31,
          32,
          33,
          34,
          35,
          36,
          37,
          38,
          39,
          40,
          41,
          42,
          43,
          44,
          45,
          46,
          47,
          48,
          49
         ],
         "xaxis": "x",
         "y": [
          605,
          573,
          431,
          399,
          503,
          411,
          440,
          510,
          354,
          400,
          407,
          445,
          504,
          413,
          423,
          403,
          521,
          436,
          580,
          564,
          497,
          470,
          628,
          593,
          514,
          608,
          623,
          680,
          570,
          584,
          442,
          452,
          480,
          521,
          383,
          429,
          368,
          425,
          462,
          471,
          469,
          466,
          471,
          530,
          439,
          379,
          414,
          635,
          555,
          407
         ],
         "yaxis": "y"
        }
       ],
       "layout": {
        "barmode": "relative",
        "legend": {
         "tracegroupgap": 0
        },
        "margin": {
         "t": 60
        },
        "template": {
         "data": {
          "bar": [
           {
            "error_x": {
             "color": "#2a3f5f"
            },
            "error_y": {
             "color": "#2a3f5f"
            },
            "marker": {
             "line": {
              "color": "#E5ECF6",
              "width": 0.5
             }
            },
            "type": "bar"
           }
          ],
          "barpolar": [
           {
            "marker": {
             "line": {
              "color": "#E5ECF6",
              "width": 0.5
             }
            },
            "type": "barpolar"
           }
          ],
          "carpet": [
           {
            "aaxis": {
             "endlinecolor": "#2a3f5f",
             "gridcolor": "white",
             "linecolor": "white",
             "minorgridcolor": "white",
             "startlinecolor": "#2a3f5f"
            },
            "baxis": {
             "endlinecolor": "#2a3f5f",
             "gridcolor": "white",
             "linecolor": "white",
             "minorgridcolor": "white",
             "startlinecolor": "#2a3f5f"
            },
            "type": "carpet"
           }
          ],
          "choropleth": [
           {
            "colorbar": {
             "outlinewidth": 0,
             "ticks": ""
            },
            "type": "choropleth"
           }
          ],
          "contour": [
           {
            "colorbar": {
             "outlinewidth": 0,
             "ticks": ""
            },
            "colorscale": [
             [
              0,
              "#0d0887"
             ],
             [
              0.1111111111111111,
              "#46039f"
             ],
             [
              0.2222222222222222,
              "#7201a8"
             ],
             [
              0.3333333333333333,
              "#9c179e"
             ],
             [
              0.4444444444444444,
              "#bd3786"
             ],
             [
              0.5555555555555556,
              "#d8576b"
             ],
             [
              0.6666666666666666,
              "#ed7953"
             ],
             [
              0.7777777777777778,
              "#fb9f3a"
             ],
             [
              0.8888888888888888,
              "#fdca26"
             ],
             [
              1,
              "#f0f921"
             ]
            ],
            "type": "contour"
           }
          ],
          "contourcarpet": [
           {
            "colorbar": {
             "outlinewidth": 0,
             "ticks": ""
            },
            "type": "contourcarpet"
           }
          ],
          "heatmap": [
           {
            "colorbar": {
             "outlinewidth": 0,
             "ticks": ""
            },
            "colorscale": [
             [
              0,
              "#0d0887"
             ],
             [
              0.1111111111111111,
              "#46039f"
             ],
             [
              0.2222222222222222,
              "#7201a8"
             ],
             [
              0.3333333333333333,
              "#9c179e"
             ],
             [
              0.4444444444444444,
              "#bd3786"
             ],
             [
              0.5555555555555556,
              "#d8576b"
             ],
             [
              0.6666666666666666,
              "#ed7953"
             ],
             [
              0.7777777777777778,
              "#fb9f3a"
             ],
             [
              0.8888888888888888,
              "#fdca26"
             ],
             [
              1,
              "#f0f921"
             ]
            ],
            "type": "heatmap"
           }
          ],
          "heatmapgl": [
           {
            "colorbar": {
             "outlinewidth": 0,
             "ticks": ""
            },
            "colorscale": [
             [
              0,
              "#0d0887"
             ],
             [
              0.1111111111111111,
              "#46039f"
             ],
             [
              0.2222222222222222,
              "#7201a8"
             ],
             [
              0.3333333333333333,
              "#9c179e"
             ],
             [
              0.4444444444444444,
              "#bd3786"
             ],
             [
              0.5555555555555556,
              "#d8576b"
             ],
             [
              0.6666666666666666,
              "#ed7953"
             ],
             [
              0.7777777777777778,
              "#fb9f3a"
             ],
             [
              0.8888888888888888,
              "#fdca26"
             ],
             [
              1,
              "#f0f921"
             ]
            ],
            "type": "heatmapgl"
           }
          ],
          "histogram": [
           {
            "marker": {
             "colorbar": {
              "outlinewidth": 0,
              "ticks": ""
             }
            },
            "type": "histogram"
           }
          ],
          "histogram2d": [
           {
            "colorbar": {
             "outlinewidth": 0,
             "ticks": ""
            },
            "colorscale": [
             [
              0,
              "#0d0887"
             ],
             [
              0.1111111111111111,
              "#46039f"
             ],
             [
              0.2222222222222222,
              "#7201a8"
             ],
             [
              0.3333333333333333,
              "#9c179e"
             ],
             [
              0.4444444444444444,
              "#bd3786"
             ],
             [
              0.5555555555555556,
              "#d8576b"
             ],
             [
              0.6666666666666666,
              "#ed7953"
             ],
             [
              0.7777777777777778,
              "#fb9f3a"
             ],
             [
              0.8888888888888888,
              "#fdca26"
             ],
             [
              1,
              "#f0f921"
             ]
            ],
            "type": "histogram2d"
           }
          ],
          "histogram2dcontour": [
           {
            "colorbar": {
             "outlinewidth": 0,
             "ticks": ""
            },
            "colorscale": [
             [
              0,
              "#0d0887"
             ],
             [
              0.1111111111111111,
              "#46039f"
             ],
             [
              0.2222222222222222,
              "#7201a8"
             ],
             [
              0.3333333333333333,
              "#9c179e"
             ],
             [
              0.4444444444444444,
              "#bd3786"
             ],
             [
              0.5555555555555556,
              "#d8576b"
             ],
             [
              0.6666666666666666,
              "#ed7953"
             ],
             [
              0.7777777777777778,
              "#fb9f3a"
             ],
             [
              0.8888888888888888,
              "#fdca26"
             ],
             [
              1,
              "#f0f921"
             ]
            ],
            "type": "histogram2dcontour"
           }
          ],
          "mesh3d": [
           {
            "colorbar": {
             "outlinewidth": 0,
             "ticks": ""
            },
            "type": "mesh3d"
           }
          ],
          "parcoords": [
           {
            "line": {
             "colorbar": {
              "outlinewidth": 0,
              "ticks": ""
             }
            },
            "type": "parcoords"
           }
          ],
          "pie": [
           {
            "automargin": true,
            "type": "pie"
           }
          ],
          "scatter": [
           {
            "marker": {
             "colorbar": {
              "outlinewidth": 0,
              "ticks": ""
             }
            },
            "type": "scatter"
           }
          ],
          "scatter3d": [
           {
            "line": {
             "colorbar": {
              "outlinewidth": 0,
              "ticks": ""
             }
            },
            "marker": {
             "colorbar": {
              "outlinewidth": 0,
              "ticks": ""
             }
            },
            "type": "scatter3d"
           }
          ],
          "scattercarpet": [
           {
            "marker": {
             "colorbar": {
              "outlinewidth": 0,
              "ticks": ""
             }
            },
            "type": "scattercarpet"
           }
          ],
          "scattergeo": [
           {
            "marker": {
             "colorbar": {
              "outlinewidth": 0,
              "ticks": ""
             }
            },
            "type": "scattergeo"
           }
          ],
          "scattergl": [
           {
            "marker": {
             "colorbar": {
              "outlinewidth": 0,
              "ticks": ""
             }
            },
            "type": "scattergl"
           }
          ],
          "scattermapbox": [
           {
            "marker": {
             "colorbar": {
              "outlinewidth": 0,
              "ticks": ""
             }
            },
            "type": "scattermapbox"
           }
          ],
          "scatterpolar": [
           {
            "marker": {
             "colorbar": {
              "outlinewidth": 0,
              "ticks": ""
             }
            },
            "type": "scatterpolar"
           }
          ],
          "scatterpolargl": [
           {
            "marker": {
             "colorbar": {
              "outlinewidth": 0,
              "ticks": ""
             }
            },
            "type": "scatterpolargl"
           }
          ],
          "scatterternary": [
           {
            "marker": {
             "colorbar": {
              "outlinewidth": 0,
              "ticks": ""
             }
            },
            "type": "scatterternary"
           }
          ],
          "surface": [
           {
            "colorbar": {
             "outlinewidth": 0,
             "ticks": ""
            },
            "colorscale": [
             [
              0,
              "#0d0887"
             ],
             [
              0.1111111111111111,
              "#46039f"
             ],
             [
              0.2222222222222222,
              "#7201a8"
             ],
             [
              0.3333333333333333,
              "#9c179e"
             ],
             [
              0.4444444444444444,
              "#bd3786"
             ],
             [
              0.5555555555555556,
              "#d8576b"
             ],
             [
              0.6666666666666666,
              "#ed7953"
             ],
             [
              0.7777777777777778,
              "#fb9f3a"
             ],
             [
              0.8888888888888888,
              "#fdca26"
             ],
             [
              1,
              "#f0f921"
             ]
            ],
            "type": "surface"
           }
          ],
          "table": [
           {
            "cells": {
             "fill": {
              "color": "#EBF0F8"
             },
             "line": {
              "color": "white"
             }
            },
            "header": {
             "fill": {
              "color": "#C8D4E3"
             },
             "line": {
              "color": "white"
             }
            },
            "type": "table"
           }
          ]
         },
         "layout": {
          "annotationdefaults": {
           "arrowcolor": "#2a3f5f",
           "arrowhead": 0,
           "arrowwidth": 1
          },
          "coloraxis": {
           "colorbar": {
            "outlinewidth": 0,
            "ticks": ""
           }
          },
          "colorscale": {
           "diverging": [
            [
             0,
             "#8e0152"
            ],
            [
             0.1,
             "#c51b7d"
            ],
            [
             0.2,
             "#de77ae"
            ],
            [
             0.3,
             "#f1b6da"
            ],
            [
             0.4,
             "#fde0ef"
            ],
            [
             0.5,
             "#f7f7f7"
            ],
            [
             0.6,
             "#e6f5d0"
            ],
            [
             0.7,
             "#b8e186"
            ],
            [
             0.8,
             "#7fbc41"
            ],
            [
             0.9,
             "#4d9221"
            ],
            [
             1,
             "#276419"
            ]
           ],
           "sequential": [
            [
             0,
             "#0d0887"
            ],
            [
             0.1111111111111111,
             "#46039f"
            ],
            [
             0.2222222222222222,
             "#7201a8"
            ],
            [
             0.3333333333333333,
             "#9c179e"
            ],
            [
             0.4444444444444444,
             "#bd3786"
            ],
            [
             0.5555555555555556,
             "#d8576b"
            ],
            [
             0.6666666666666666,
             "#ed7953"
            ],
            [
             0.7777777777777778,
             "#fb9f3a"
            ],
            [
             0.8888888888888888,
             "#fdca26"
            ],
            [
             1,
             "#f0f921"
            ]
           ],
           "sequentialminus": [
            [
             0,
             "#0d0887"
            ],
            [
             0.1111111111111111,
             "#46039f"
            ],
            [
             0.2222222222222222,
             "#7201a8"
            ],
            [
             0.3333333333333333,
             "#9c179e"
            ],
            [
             0.4444444444444444,
             "#bd3786"
            ],
            [
             0.5555555555555556,
             "#d8576b"
            ],
            [
             0.6666666666666666,
             "#ed7953"
            ],
            [
             0.7777777777777778,
             "#fb9f3a"
            ],
            [
             0.8888888888888888,
             "#fdca26"
            ],
            [
             1,
             "#f0f921"
            ]
           ]
          },
          "colorway": [
           "#636efa",
           "#EF553B",
           "#00cc96",
           "#ab63fa",
           "#FFA15A",
           "#19d3f3",
           "#FF6692",
           "#B6E880",
           "#FF97FF",
           "#FECB52"
          ],
          "font": {
           "color": "#2a3f5f"
          },
          "geo": {
           "bgcolor": "white",
           "lakecolor": "white",
           "landcolor": "#E5ECF6",
           "showlakes": true,
           "showland": true,
           "subunitcolor": "white"
          },
          "hoverlabel": {
           "align": "left"
          },
          "hovermode": "closest",
          "mapbox": {
           "style": "light"
          },
          "paper_bgcolor": "white",
          "plot_bgcolor": "#E5ECF6",
          "polar": {
           "angularaxis": {
            "gridcolor": "white",
            "linecolor": "white",
            "ticks": ""
           },
           "bgcolor": "#E5ECF6",
           "radialaxis": {
            "gridcolor": "white",
            "linecolor": "white",
            "ticks": ""
           }
          },
          "scene": {
           "xaxis": {
            "backgroundcolor": "#E5ECF6",
            "gridcolor": "white",
            "gridwidth": 2,
            "linecolor": "white",
            "showbackground": true,
            "ticks": "",
            "zerolinecolor": "white"
           },
           "yaxis": {
            "backgroundcolor": "#E5ECF6",
            "gridcolor": "white",
            "gridwidth": 2,
            "linecolor": "white",
            "showbackground": true,
            "ticks": "",
            "zerolinecolor": "white"
           },
           "zaxis": {
            "backgroundcolor": "#E5ECF6",
            "gridcolor": "white",
            "gridwidth": 2,
            "linecolor": "white",
            "showbackground": true,
            "ticks": "",
            "zerolinecolor": "white"
           }
          },
          "shapedefaults": {
           "line": {
            "color": "#2a3f5f"
           }
          },
          "ternary": {
           "aaxis": {
            "gridcolor": "white",
            "linecolor": "white",
            "ticks": ""
           },
           "baxis": {
            "gridcolor": "white",
            "linecolor": "white",
            "ticks": ""
           },
           "bgcolor": "#E5ECF6",
           "caxis": {
            "gridcolor": "white",
            "linecolor": "white",
            "ticks": ""
           }
          },
          "title": {
           "x": 0.05
          },
          "xaxis": {
           "automargin": true,
           "gridcolor": "white",
           "linecolor": "white",
           "ticks": "",
           "title": {
            "standoff": 15
           },
           "zerolinecolor": "white",
           "zerolinewidth": 2
          },
          "yaxis": {
           "automargin": true,
           "gridcolor": "white",
           "linecolor": "white",
           "ticks": "",
           "title": {
            "standoff": 15
           },
           "zerolinecolor": "white",
           "zerolinewidth": 2
          }
         }
        },
        "xaxis": {
         "anchor": "y",
         "domain": [
          0,
          1
         ],
         "title": {
          "text": "segment"
         }
        },
        "yaxis": {
         "anchor": "x",
         "domain": [
          0,
          1
         ],
         "title": {
          "text": "nMisspelled"
         }
        }
       }
      },
      "text/html": [
       "<div>\n",
       "        \n",
       "        \n",
       "            <div id=\"1a93907c-bbe2-4c36-9396-80a3610b20cc\" class=\"plotly-graph-div\" style=\"height:525px; width:100%;\"></div>\n",
       "            <script type=\"text/javascript\">\n",
       "                require([\"plotly\"], function(Plotly) {\n",
       "                    window.PLOTLYENV=window.PLOTLYENV || {};\n",
       "                    \n",
       "                if (document.getElementById(\"1a93907c-bbe2-4c36-9396-80a3610b20cc\")) {\n",
       "                    Plotly.newPlot(\n",
       "                        '1a93907c-bbe2-4c36-9396-80a3610b20cc',\n",
       "                        [{\"alignmentgroup\": \"True\", \"customdata\": [[[\"\\u00a0\\u00a0\\u00a0 riverrun, past Eve and Adam's, from\", \"swerve of shore to bend of bay, brings\", \"us by a commodius vicus of recirculation\", \"back to Howth Castle and Envir\"], \"riverrun commodius vicus recirculation passen rearrived wielderfight penisolate topsawyer themselse gorgios bellowsed venissoon buttended vanessy aqua\"], [[\"ugh for rings round them, during a\", \"chiliad of perihelygangs, the Formoreans\", \"have brittled the too-  ath of the Danes\", \"and the Oxman has been pestered b\"], \"chiliad brittled ath jerrybuilding Kevan ses childsfather laughtears paxsealing whafft babbelers thangas confusium thigging hou norgels pollyfool fian\"], [[\"for the books and never pegging smashers\", \"after Tom Bowe Glassarse or Timmy the\", \"Tosser. 'Tisraely the truth! No isn't\", \"it, roman pathoricks? You were\"], \"n't doublejoynted grandfer ritehand doat oghres schoolbelt olde tarandtan plaidboy encostive inkum lavings bourseday tourch ruddyberry redminers woods\"], [[\" sake!) hands between hahands, in fealty\", \"sworn (my bravor best! my fraur!) and,\", \"to the strains of The Secret of Her\", \"Birth, hushly pierce the rubiend a\"], \"fraur aurellum layteacher orthophonethics nearstout hippic runfields rememberance stablecloth portey purpular phantomweight toppitt maggies pisononse \"], [[\", as he, so is a supper as is a sipper,\", \"spake of the One and told of the\", \"Compassionate, called up before the\", \"triad of precoxious scaremakers\", \"(scoretak\"], \"precoxious scaremakers scoretaking bellulo rispondas fraulino ushere doyne de trailmost soorkabatcha latitu puggaree fourinhand elbaroom surtout unman\"], [[\"d jumphet to the tiltyard from the\", \"wastes a'sleep in his obi ohny\", \"overclothes or choker, attracted by the\", \"norse of guns playing Delandy is\", \"cartager on\"], \"jumphet tiltyard ohny overclothes norse cartager raglar wealthes mor mon byelo pandywhank oonagh belzey martiallawsey marses musi instrumongs Pompery \"], [[\"ppey might to you cuttinrunner on a neuw\", \"pack of klerds, made him, while his body\", \"still persisted, their present of a\", \"protem grave in Moyelta of the b\"], \"cuttinrunner neuw klerds protem Neagh limniphobes kettlekerry dutchy troutbeck sillying peater arripple somnolulutent curst wastohavebeen architecht o\"], [[\"o cognitively conatively cogitabun-\", \"dantly sure of it because, living,\", \"loving, breathing and sleeping\", \"morphomelosophopancreates, as he most\", \"significa\"], \"cogitabun dantly morphomelosophopancreates truies blouseman pediculously A'Quite Szer twithcherous att tenyerdfuul aastalled jobbera majar tumblerous \"], [[\"of D. Blayncy's trilingual triweekly,\", \"Scatterbrains' Aften-  ing Posht, so as\", \"to make certain sure onetime and be\", \"satisfied of their quasicontribusoda\"], \"trilingual triweekly Aften ing Posht atalaclamoured Pozor Buddaree morrowing unrescued patriate aslike asnake sliduant oaktree liquidamber resipiency \"], [[\"anewanting human lioness with her\", \"dishorned discipular manram will lie\", \"down together publicly flank upon\", \"fleece. No, assuredly, they are not\", \"justified\"], \"dishorned Misthress anomo teasy nosibos jotty fols falli nadianods strow blague recting robur fansaties frizette graith uncouthre ment postmantuam gla\"], [[\"a singleminded men's asylum, accentuated\", \"by bi tso fb rok engl a ssan dspl itch\", \"ina, \\u2014 Yard inquiries pointed out \\u2192 that\", \"they ad b\\u00een \\\"provoked\\\" ay  fo\"], \"singleminded b\\u00een ay \\u00e0th \\u00f9pon s\\u00f9 f\\u00e0\\u00e7'e ingh smearbread newlaidills pneuma mon peerer fourleaved Partlet dungheap waterung shyme lettermaking explots ac\"], [[\"he appeared to his shecook as Haycock,\", \"Emmet, Boaro, Toaro, Osterich, Mangy and\", \"Skunk; pressed the beer of aled age out\", \"of the nettles of rashness; pu\"], \"shecook coq dapifer pancircensor topes packetboat Tortur brugh youngheaded dafe duv pitchin Koenig tronf comf priv vaguum moultain boultter lumin succ\"], [[\"effect. For Rut-  land blue's got out of\", \"passion. So, so, my precious! O, I can\", \"see the cost, chare! Don't tell me! Why,\", \"the boy in sheeps' lane knows\"], \"chare n't sheeps n't juliettes n't n't aucthor significat exsystems nieu nivulon trouchorous gibos bosso sorrasims Uian n't alpin charmermaid marfello\"], [[\"tender) Vux Populus, as we say in\", \"hickory-  hockery and I wish we had some\", \"more glasses of arbor vitae. Why roat by\", \"the roadside or awn over alum pot?\"], \"arbor n't jones wildsbillow supersocks publicked bestback laetification siderodromites unenglish billfaust nite wantnot Wilsh deblinite funcktas srump\"], [[\"h, lives on loans and is furtivefree\", \"yours of age? with-  out one sigh of\", \"haste like the supreme prig he was, and\", \"not a bit sorry, he would pull a vac\"], \"furtivefree pensile lauscher prattlepate parnella deadbest tamileasy samtalaisy agri philanthropicks panesthetic swrine tarabooming poh visanvrerssas \"], [[\"Father Flammeus Falconer, boycotted him\", \"of all mutton-  suet candles and\", \"romeruled stationery for any purpose, he\", \"winged away on a wildgoup's chase ac\"], \"romeruled wildgoup blushfed porporates dunsky tunga Primum et cuncti potentem suscepto perizomatis uti deiectiones suas tristitiae posuit invocatione \"], [[\"hoot swift up her sheba sheath, like any\", \"gay lord salomon, her bulls they were\", \"ruhring, surfed with spree. Boyarka\", \"buah! Boyana bueh! He erned his lil\"], \"ruhring erned lille staly n't kaldt codfisck ee Ay ing Gota limmat wonced laddery dextro coneywink n't absantee proxenete phthat jarkon langua examplu\"], [[\"led she fleetly laid at our door! On the\", \"matt, by the pourch and in-  under the\", \"cellar. The rivulets ran aflod to see,\", \"the glashaboys, the pollynootie\"], \"pourch aflod glashaboys pollynooties paunschaup ingenuinas artesaned wellings Annchen sula Ausone sidulcis n't tambre chir jary maundy meerschaundize \"], [[\"ly gra-  cious: Mi, O la!), and reloose\", \"that thong off his art: Hast thou feel\", \"liked carbunckley ones? Apun which his\", \"poohoor pricoxity theirs   is a\"], \"reloose poohoor pricoxity tittertit wordchary atvoiced ringsoundinly ensembled ulstramarines Warewolff Olff olff topheetuck ankered prest whatarcurss \"], [[\" seamist inso one) as leichtly as see\", \"saw (O my goodmiss! O my greatmess! O my\", \"prizelestly preshoes!) while, dewyfully\", \"as dimb dumbelles, all alisten\"], \"seamist inso leichtly goodmiss greatmess prizelestly preshoes alisten Enchainted Stainusless herehear salutamt unschoold pageantmaster softmis sives b\"], [[\"ll ye na pick them in their pink of\", \"panties. You can colour up till you're\", \"prawn while I go squirt with any cockle.\", \"When here who adolls me infuxes\"], \"na backsight greeneyed viewmarc breathings glittergates herof therebeneath breathings fondance uniomargrits consonantia herup aba vibroverberates tegm\"], [[\"NISM.      seldomers that most frequent\", \"him. That same erst crafty hakemouth\", \"which under the assumed name of Ignotus\", \"Loquor, of foggy old, harangued b\"], \"seldomers hakemouth favorite theo incenstrobed smellpex ostrogothic wartem Castil Saaleddies warken loth pleasestir inkbottle solarsystemised seriol a\"], [[\"w to call the cattle black. Moopetsi\", \"meepotsi.   \\u00a0\\u00a0\\u00a0\\u00a0 5 I was so snug off in\", \"my apholster's creedle but at long leash\", \"I'll stretch more capritious in\"], \"creedle capritious dapplepied lisplips liss hunterland twoheaded dul carnons pulfers Omnitudes knutshedell abso stown SIGNIFI sevencoloured Ochone imp\"], [[\"them, (o.p.) to steeplechange back once\", \"from their ophis workship and twice on\", \"sundises, to their ancient flash and\", \"crash habits of old Pales time ere\"], \"steeplechange ophis workship outa th'Empyre righthand interlooking pum hoc doombody ostrovgods eitherways descendance priesto puddywhack molniacs made\"], [[\"ates.2 This is brave Danny weeping his\", \"spache for the popers. This is cool\", \"Connolly wiping his hearth with brave\", \"Danny. And this, regard! how Chawlese\"], \"spache popers parparaparnelligoes L'arty Prouf puppadums paraboles famellicurbs triperforator awlrite pergaman blessted selfchuruls unpious hairydary \"], [[\"meeds be the hourihorn), hibernia-  ting\", \"after seven oak ages, fearsome where\", \"they were he had gone dump in the\", \"doomering this tide where the peixies\"], \"meeds hourihorn doomering sess boelgein locquor overus ballshee niggerhead fitten mer kins povotogesus portocall furt hurdies sayd kumpavin iceslant h\"], [[\"ey with the room in herberge down to\", \"forkpiece and bucklecatch, (Elding, my\", \"elding! and Lif, my lif!) in the pravacy\", \"of the pirmanocturne, hap, sayd h\"], \"ey herberge forkpiece bucklecatch elding lif pravacy pirmanocturne sayd sayd fyrsty annas everso thried swumped seachest mallyme emmas brottels taylig\"], [[\" of the drumbume of a narse. Guards,\", \"serf Finnland, serve we all! \\u00a0\\u00a0\\u00a0\\u00a0 TAFF\", \"(whatwidth the psychophannies at the\", \"front and whetwadth   the psuckofumbe\"], \"drumbume narse whatwidth psychophannies psuckofumbers bulchri chudes roshashanaral Ribboncake pollex prized justso fannacies daintied showlaced limbal\"], [[\"bung goes the enemay the Percy rally got\", \"me, messger, (as true as theirs an\", \"Almagnian Gothabobus!) to blow the grand\", \"off his aceupper. Thistake it's m\"], \"enemay aceupper Thistake meest insurrectioned procuratress sleever Tumbleheaver camelsensing sonce wellbred umzemlianess preceedings autosotorisation \"], [[\"o you low, marchers! Attemption! What a\", \"mazing month of budsome misses they are\", \"making, so wingty-  wish to flit beflore\", \"their kin! Attonsure! Ears to\"], \"wingty beflore skall yawpens papertreated hocksheat starvision avrageto conscraptions asservent perfectpeace abwaited intectis perensempry othour knig\"], [[\"mp, Powell! Clean over all their heads.\", \"We could kiss him for that one, couddled\", \"we, Huggins? Sparkes is the footer to\", \"hance off nancies. Scaldhead, p\"], \"couddled nancies burryberries massus kinn softing soullfriede ating easter greeding keykeeper dreamadoory saysaith helo gattling ropen noosebag schlym\"], [[\"Roman history, of Latimer repeating\", \"himself, from the vicerine of Lord Hugh,\", \"the Lacytynant, till Bockleyshuts the\", \"rah-  jahn gerachknell and regnumro\"], \"vicerine Bockleyshuts oceanfuls forgetmenots abijance pioja earnasyoulearning growback Moonster matther Flure gynecollege Janesdanes Anders auld unita\"], [[\" so swayed a will of a wisp before me,\", \"hand prop to hand, prompt side to the\", \"pros, dressed like an earl in just the\", \"correct wear, in a classy mac Frie\"], \"suparior ferrier freeswinging scotsmost sparable softrolling sealingwax twentytwo krasnapopp boheem damasker overshirt starspangled crinklydoodle embr\"], [[\"joust as sieck as a sexton and tantoo\", \"pooveroo quant a churchprince, and wheer\", \"the midges to wend hemsylph or vosch to\", \"sirch for grub for his corapuss\"], \"churchprince wheer sirch volomundo osi vide vide pickopeck muscow tittlebits contrited melan sluggered whilepaper lustres de voured styearcases mensas\"], [[\"eplug of filiality reinsure your\", \"bunghole! May the barleywind behind glow\", \"luck to your bathershins! 'Tis well we\", \"know you were loth to leave us, windi\"], \"reinsure Tis loth aruah dreambookpage blankmerges goodship knockside trampthickets Jaun cothurminous preambler hosen footgear planemetrically cotted j\"], [[\"ted sauce. Sifted science will do your\", \"arts good. Egg Laid by Former Cock and\", \"With Flageolettes in Send   Fanciesland.\", \"Chiefly girls. Trip over sacram\"], \"Flageolettes Fanciesland saucerdotes instructual bittermint soughts balmoil schizmatics hemd mouthshine vesta underclothed forstake Whisht happytight \"], [[\"g, I never could tell the leest\", \"falsehood that would truthfully give\", \"sotisfiction. I'm not talking apple\", \"sauce eithou. Or up in my hat. I earnst.\", \"Schu\"], \"sotisfiction earnst correspondance besated thauthor phono th'ether tis tramsported hoppy plow profund efferfreshpainted livy pharoph nextfirst ramesch\"], [[\" I pass no remark. Hope he hasn't the\", \"cholera. Give him an eyot in the farout.\", \"Moseses and Noasies, how are you? He'd\", \"be as snug as Columbsisle Jonas\"], \"n't eyot farout wrocked whaves quotad anysides cankle breans annyone oweand chems yemploy coppy n't marmade flamme leal aboo omportent piedish schinke\"], [[\"uiting that personer in his fallen. And\", \"a crack quat-  youare of stenoggers they\", \"made of themselves, solons and psy-\", \"chomorers, all told, with their\"], \"quat youare stenoggers solons psy daimons asprawl amengst bedeave oscasleep whatall tis starmenag mack ensorcelled mamalujo groupography quarterings c\"], [[\" Fullgrapce for an endupper, half muxy\", \"on his whole! Would he were even among\", \"the lost! From ours bereft beyond be-\", \"longs. Oremus poor fraternibus th\"], \"endupper muxy gallews airse sameplace sopjack fosther roamin teetotum asamed ashunned harican Outpassed pertimes moonshane shemblable otiumic saywhen \"], [[\"By snaachtha clocka. The nicest at all.\", \"In hilly-and-even zimalayars. \\u00a0\\u00a0\\u00a0\\u00a0\\u2014 Did\", \"it not blow some gales, westnass or\", \"ostscent, rather strongly to less,\"], \"ostscent jusse sprungen galumphantes Stll cllng Nmr highlucky nackt pritty geallachers datey Latearly Latearly Latearly Latearly latterlig frostwork h\"], [[\"rful! Come, delicacy! Go to the end,\", \"thou slackerd! Once upon a grass and a\", \"hopping high grass it was. \\u00a0\\u00a0\\u00a0\\u00a0\\u2014 Faith,\", \"then, Meesta Cheeryman, first he\"], \"rful slackerd wesz MacSmashall Swingy ragamufflers perusual ner mrowkas weevilybolly nagles coocoomb sirr n't awethorrorty wolfling thoult kanes faket\"], [[\"ke's named moke. Doggymens' nimmer win!\", \"You last led the first when we last but\", \"we'll first trump your last with a\", \"lasting. Jump the railchairs or tak\"], \"railchairs foxyjack Ye've skullabogue caldron kalebrose sandsteen brandnew braintrust compellably empanelled uniformication Underfifteen Mirtha dreepe\"], [[\"l-  bobs have gone from the mode and\", \"hairtrigger nicks are quite out of time\", \"now. Thuggeries are reere as glovars'\", \"metins, lepers lack, ignerants show\"], \"hairtrigger reere ignerants bitterhalves mallsight kepp poudies segn skivs centripunts havd habt seaventy seavens inkeptive fordrock chort wherewithou\"], [[\" paddypalace on the crossknoll with\", \"massgo bell, sixton clashcloshant,\", \"duominous and muezzatinties to commind\", \"the fit-  ful: doom adimdim adoom adimad\"], \"paddypalace crossknoll ful adimdim adoom adimadim oragel posied pewmillieu tararulled bon altarstane mossyhonours sleetshowers ing vergin alphabeater \"], [[\" honty bottomsside pap pap pappa. \\u00a0\\u00a0\\u00a0\\u00a0\\u2014\", \"Li ne dormis?  \\u00a0\\u00a0\\u00a0\\u00a0\\u2014 S! Malbone dormas.\", \"\\u00a0\\u00a0\\u00a0\\u00a0\\u2014 Kia li krias nikte?  \\u00a0\\u00a0\\u00a0\\u00a0\\u2014 Parolas\", \"infanetes. S!  \\u00a0\\u00a0\\u00a0\\u00a0 Sonly al\"], \"honty pappa Malbone dormas nikte infanetes Sonly elvery seling nightmail afarfrom pickts saxums hosties gallpitch lilygem sleepingchambers seneschals \"], [[\"nt garden: monk and sempstress, in\", \"sackcloth silkily: curious dreamers,\", \"curious dramas, curious deman, plagiast\", \"dayman, playajest dearest, plaguiest d\"], \"nt strangfort karkery dryflooring leperties laddos blump slogo snorring villen brunzewig caspian pharrer livite hedcosycasket wollsey shirtplisse peas\"], [[\"ly. Next, upon due reflotation, up\", \"started four hurrigan gales to\", \"smithereen his plateglass house-  walls\", \"and the slate for accounts his keeper\", \"was co\"], \"ly reflotation counterbezzled hussites sconded barleystraw explosium deafadumped heptark bankrump ohoho policist covenanter falseheaven ultraviolent s\"], [[\"coloured milk train on the fartykket\", \"plan run with its endless gallaxion of\", \"rotatorattlers and the smool-  troon our\", \"elderens rememberem as the scream\"], \"fartykket gallaxion rotatorattlers smool waggonwobblers everdue Ecclesia aubrey primace aboil Eyr onebut insels increate tim ber heeler wethers lapful\"], [[\"e staired up the step after it's the\", \"power of the gait. His giantstand of\", \"manun-  known. No brad wishy washy wathy\", \"wanted neither! Once you are ballad\"], \"staired giantstand manun wishy unperceable Ruggers Finckers hizzars ploose concloose thoose epoostles ourselfsake whool lovesend pockle giddersh ve ch\"]], \"hovertemplate\": \"segment=%{x}<br>nMisspelled=%{y}<br>previews=%{customdata[0]}<br>misspelled=%{customdata[1]}<extra></extra>\", \"legendgroup\": \"\", \"marker\": {\"color\": \"#636efa\"}, \"name\": \"\", \"offsetgroup\": \"\", \"orientation\": \"v\", \"showlegend\": false, \"textposition\": \"auto\", \"type\": \"bar\", \"x\": [0, 1, 2, 3, 4, 5, 6, 7, 8, 9, 10, 11, 12, 13, 14, 15, 16, 17, 18, 19, 20, 21, 22, 23, 24, 25, 26, 27, 28, 29, 30, 31, 32, 33, 34, 35, 36, 37, 38, 39, 40, 41, 42, 43, 44, 45, 46, 47, 48, 49], \"xaxis\": \"x\", \"y\": [605, 573, 431, 399, 503, 411, 440, 510, 354, 400, 407, 445, 504, 413, 423, 403, 521, 436, 580, 564, 497, 470, 628, 593, 514, 608, 623, 680, 570, 584, 442, 452, 480, 521, 383, 429, 368, 425, 462, 471, 469, 466, 471, 530, 439, 379, 414, 635, 555, 407], \"yaxis\": \"y\"}],\n",
       "                        {\"barmode\": \"relative\", \"legend\": {\"tracegroupgap\": 0}, \"margin\": {\"t\": 60}, \"template\": {\"data\": {\"bar\": [{\"error_x\": {\"color\": \"#2a3f5f\"}, \"error_y\": {\"color\": \"#2a3f5f\"}, \"marker\": {\"line\": {\"color\": \"#E5ECF6\", \"width\": 0.5}}, \"type\": \"bar\"}], \"barpolar\": [{\"marker\": {\"line\": {\"color\": \"#E5ECF6\", \"width\": 0.5}}, \"type\": \"barpolar\"}], \"carpet\": [{\"aaxis\": {\"endlinecolor\": \"#2a3f5f\", \"gridcolor\": \"white\", \"linecolor\": \"white\", \"minorgridcolor\": \"white\", \"startlinecolor\": \"#2a3f5f\"}, \"baxis\": {\"endlinecolor\": \"#2a3f5f\", \"gridcolor\": \"white\", \"linecolor\": \"white\", \"minorgridcolor\": \"white\", \"startlinecolor\": \"#2a3f5f\"}, \"type\": \"carpet\"}], \"choropleth\": [{\"colorbar\": {\"outlinewidth\": 0, \"ticks\": \"\"}, \"type\": \"choropleth\"}], \"contour\": [{\"colorbar\": {\"outlinewidth\": 0, \"ticks\": \"\"}, \"colorscale\": [[0.0, \"#0d0887\"], [0.1111111111111111, \"#46039f\"], [0.2222222222222222, \"#7201a8\"], [0.3333333333333333, \"#9c179e\"], [0.4444444444444444, \"#bd3786\"], [0.5555555555555556, \"#d8576b\"], [0.6666666666666666, \"#ed7953\"], [0.7777777777777778, \"#fb9f3a\"], [0.8888888888888888, \"#fdca26\"], [1.0, \"#f0f921\"]], \"type\": \"contour\"}], \"contourcarpet\": [{\"colorbar\": {\"outlinewidth\": 0, \"ticks\": \"\"}, \"type\": \"contourcarpet\"}], \"heatmap\": [{\"colorbar\": {\"outlinewidth\": 0, \"ticks\": \"\"}, \"colorscale\": [[0.0, \"#0d0887\"], [0.1111111111111111, \"#46039f\"], [0.2222222222222222, \"#7201a8\"], [0.3333333333333333, \"#9c179e\"], [0.4444444444444444, \"#bd3786\"], [0.5555555555555556, \"#d8576b\"], [0.6666666666666666, \"#ed7953\"], [0.7777777777777778, \"#fb9f3a\"], [0.8888888888888888, \"#fdca26\"], [1.0, \"#f0f921\"]], \"type\": \"heatmap\"}], \"heatmapgl\": [{\"colorbar\": {\"outlinewidth\": 0, \"ticks\": \"\"}, \"colorscale\": [[0.0, \"#0d0887\"], [0.1111111111111111, \"#46039f\"], [0.2222222222222222, \"#7201a8\"], [0.3333333333333333, \"#9c179e\"], [0.4444444444444444, \"#bd3786\"], [0.5555555555555556, \"#d8576b\"], [0.6666666666666666, \"#ed7953\"], [0.7777777777777778, \"#fb9f3a\"], [0.8888888888888888, \"#fdca26\"], [1.0, \"#f0f921\"]], \"type\": \"heatmapgl\"}], \"histogram\": [{\"marker\": {\"colorbar\": {\"outlinewidth\": 0, \"ticks\": \"\"}}, \"type\": \"histogram\"}], \"histogram2d\": [{\"colorbar\": {\"outlinewidth\": 0, \"ticks\": \"\"}, \"colorscale\": [[0.0, \"#0d0887\"], [0.1111111111111111, \"#46039f\"], [0.2222222222222222, \"#7201a8\"], [0.3333333333333333, \"#9c179e\"], [0.4444444444444444, \"#bd3786\"], [0.5555555555555556, \"#d8576b\"], [0.6666666666666666, \"#ed7953\"], [0.7777777777777778, \"#fb9f3a\"], [0.8888888888888888, \"#fdca26\"], [1.0, \"#f0f921\"]], \"type\": \"histogram2d\"}], \"histogram2dcontour\": [{\"colorbar\": {\"outlinewidth\": 0, \"ticks\": \"\"}, \"colorscale\": [[0.0, \"#0d0887\"], [0.1111111111111111, \"#46039f\"], [0.2222222222222222, \"#7201a8\"], [0.3333333333333333, \"#9c179e\"], [0.4444444444444444, \"#bd3786\"], [0.5555555555555556, \"#d8576b\"], [0.6666666666666666, \"#ed7953\"], [0.7777777777777778, \"#fb9f3a\"], [0.8888888888888888, \"#fdca26\"], [1.0, \"#f0f921\"]], \"type\": \"histogram2dcontour\"}], \"mesh3d\": [{\"colorbar\": {\"outlinewidth\": 0, \"ticks\": \"\"}, \"type\": \"mesh3d\"}], \"parcoords\": [{\"line\": {\"colorbar\": {\"outlinewidth\": 0, \"ticks\": \"\"}}, \"type\": \"parcoords\"}], \"pie\": [{\"automargin\": true, \"type\": \"pie\"}], \"scatter\": [{\"marker\": {\"colorbar\": {\"outlinewidth\": 0, \"ticks\": \"\"}}, \"type\": \"scatter\"}], \"scatter3d\": [{\"line\": {\"colorbar\": {\"outlinewidth\": 0, \"ticks\": \"\"}}, \"marker\": {\"colorbar\": {\"outlinewidth\": 0, \"ticks\": \"\"}}, \"type\": \"scatter3d\"}], \"scattercarpet\": [{\"marker\": {\"colorbar\": {\"outlinewidth\": 0, \"ticks\": \"\"}}, \"type\": \"scattercarpet\"}], \"scattergeo\": [{\"marker\": {\"colorbar\": {\"outlinewidth\": 0, \"ticks\": \"\"}}, \"type\": \"scattergeo\"}], \"scattergl\": [{\"marker\": {\"colorbar\": {\"outlinewidth\": 0, \"ticks\": \"\"}}, \"type\": \"scattergl\"}], \"scattermapbox\": [{\"marker\": {\"colorbar\": {\"outlinewidth\": 0, \"ticks\": \"\"}}, \"type\": \"scattermapbox\"}], \"scatterpolar\": [{\"marker\": {\"colorbar\": {\"outlinewidth\": 0, \"ticks\": \"\"}}, \"type\": \"scatterpolar\"}], \"scatterpolargl\": [{\"marker\": {\"colorbar\": {\"outlinewidth\": 0, \"ticks\": \"\"}}, \"type\": \"scatterpolargl\"}], \"scatterternary\": [{\"marker\": {\"colorbar\": {\"outlinewidth\": 0, \"ticks\": \"\"}}, \"type\": \"scatterternary\"}], \"surface\": [{\"colorbar\": {\"outlinewidth\": 0, \"ticks\": \"\"}, \"colorscale\": [[0.0, \"#0d0887\"], [0.1111111111111111, \"#46039f\"], [0.2222222222222222, \"#7201a8\"], [0.3333333333333333, \"#9c179e\"], [0.4444444444444444, \"#bd3786\"], [0.5555555555555556, \"#d8576b\"], [0.6666666666666666, \"#ed7953\"], [0.7777777777777778, \"#fb9f3a\"], [0.8888888888888888, \"#fdca26\"], [1.0, \"#f0f921\"]], \"type\": \"surface\"}], \"table\": [{\"cells\": {\"fill\": {\"color\": \"#EBF0F8\"}, \"line\": {\"color\": \"white\"}}, \"header\": {\"fill\": {\"color\": \"#C8D4E3\"}, \"line\": {\"color\": \"white\"}}, \"type\": \"table\"}]}, \"layout\": {\"annotationdefaults\": {\"arrowcolor\": \"#2a3f5f\", \"arrowhead\": 0, \"arrowwidth\": 1}, \"coloraxis\": {\"colorbar\": {\"outlinewidth\": 0, \"ticks\": \"\"}}, \"colorscale\": {\"diverging\": [[0, \"#8e0152\"], [0.1, \"#c51b7d\"], [0.2, \"#de77ae\"], [0.3, \"#f1b6da\"], [0.4, \"#fde0ef\"], [0.5, \"#f7f7f7\"], [0.6, \"#e6f5d0\"], [0.7, \"#b8e186\"], [0.8, \"#7fbc41\"], [0.9, \"#4d9221\"], [1, \"#276419\"]], \"sequential\": [[0.0, \"#0d0887\"], [0.1111111111111111, \"#46039f\"], [0.2222222222222222, \"#7201a8\"], [0.3333333333333333, \"#9c179e\"], [0.4444444444444444, \"#bd3786\"], [0.5555555555555556, \"#d8576b\"], [0.6666666666666666, \"#ed7953\"], [0.7777777777777778, \"#fb9f3a\"], [0.8888888888888888, \"#fdca26\"], [1.0, \"#f0f921\"]], \"sequentialminus\": [[0.0, \"#0d0887\"], [0.1111111111111111, \"#46039f\"], [0.2222222222222222, \"#7201a8\"], [0.3333333333333333, \"#9c179e\"], [0.4444444444444444, \"#bd3786\"], [0.5555555555555556, \"#d8576b\"], [0.6666666666666666, \"#ed7953\"], [0.7777777777777778, \"#fb9f3a\"], [0.8888888888888888, \"#fdca26\"], [1.0, \"#f0f921\"]]}, \"colorway\": [\"#636efa\", \"#EF553B\", \"#00cc96\", \"#ab63fa\", \"#FFA15A\", \"#19d3f3\", \"#FF6692\", \"#B6E880\", \"#FF97FF\", \"#FECB52\"], \"font\": {\"color\": \"#2a3f5f\"}, \"geo\": {\"bgcolor\": \"white\", \"lakecolor\": \"white\", \"landcolor\": \"#E5ECF6\", \"showlakes\": true, \"showland\": true, \"subunitcolor\": \"white\"}, \"hoverlabel\": {\"align\": \"left\"}, \"hovermode\": \"closest\", \"mapbox\": {\"style\": \"light\"}, \"paper_bgcolor\": \"white\", \"plot_bgcolor\": \"#E5ECF6\", \"polar\": {\"angularaxis\": {\"gridcolor\": \"white\", \"linecolor\": \"white\", \"ticks\": \"\"}, \"bgcolor\": \"#E5ECF6\", \"radialaxis\": {\"gridcolor\": \"white\", \"linecolor\": \"white\", \"ticks\": \"\"}}, \"scene\": {\"xaxis\": {\"backgroundcolor\": \"#E5ECF6\", \"gridcolor\": \"white\", \"gridwidth\": 2, \"linecolor\": \"white\", \"showbackground\": true, \"ticks\": \"\", \"zerolinecolor\": \"white\"}, \"yaxis\": {\"backgroundcolor\": \"#E5ECF6\", \"gridcolor\": \"white\", \"gridwidth\": 2, \"linecolor\": \"white\", \"showbackground\": true, \"ticks\": \"\", \"zerolinecolor\": \"white\"}, \"zaxis\": {\"backgroundcolor\": \"#E5ECF6\", \"gridcolor\": \"white\", \"gridwidth\": 2, \"linecolor\": \"white\", \"showbackground\": true, \"ticks\": \"\", \"zerolinecolor\": \"white\"}}, \"shapedefaults\": {\"line\": {\"color\": \"#2a3f5f\"}}, \"ternary\": {\"aaxis\": {\"gridcolor\": \"white\", \"linecolor\": \"white\", \"ticks\": \"\"}, \"baxis\": {\"gridcolor\": \"white\", \"linecolor\": \"white\", \"ticks\": \"\"}, \"bgcolor\": \"#E5ECF6\", \"caxis\": {\"gridcolor\": \"white\", \"linecolor\": \"white\", \"ticks\": \"\"}}, \"title\": {\"x\": 0.05}, \"xaxis\": {\"automargin\": true, \"gridcolor\": \"white\", \"linecolor\": \"white\", \"ticks\": \"\", \"title\": {\"standoff\": 15}, \"zerolinecolor\": \"white\", \"zerolinewidth\": 2}, \"yaxis\": {\"automargin\": true, \"gridcolor\": \"white\", \"linecolor\": \"white\", \"ticks\": \"\", \"title\": {\"standoff\": 15}, \"zerolinecolor\": \"white\", \"zerolinewidth\": 2}}}, \"xaxis\": {\"anchor\": \"y\", \"domain\": [0.0, 1.0], \"title\": {\"text\": \"segment\"}}, \"yaxis\": {\"anchor\": \"x\", \"domain\": [0.0, 1.0], \"title\": {\"text\": \"nMisspelled\"}}},\n",
       "                        {\"responsive\": true}\n",
       "                    ).then(function(){\n",
       "                            \n",
       "var gd = document.getElementById('1a93907c-bbe2-4c36-9396-80a3610b20cc');\n",
       "var x = new MutationObserver(function (mutations, observer) {{\n",
       "        var display = window.getComputedStyle(gd).display;\n",
       "        if (!display || display === 'none') {{\n",
       "            console.log([gd, 'removed!']);\n",
       "            Plotly.purge(gd);\n",
       "            observer.disconnect();\n",
       "        }}\n",
       "}});\n",
       "\n",
       "// Listen for the removal of the full notebook cells\n",
       "var notebookContainer = gd.closest('#notebook-container');\n",
       "if (notebookContainer) {{\n",
       "    x.observe(notebookContainer, {childList: true});\n",
       "}}\n",
       "\n",
       "// Listen for the clearing of the current output cell\n",
       "var outputEl = gd.closest('.output');\n",
       "if (outputEl) {{\n",
       "    x.observe(outputEl, {childList: true});\n",
       "}}\n",
       "\n",
       "                        })\n",
       "                };\n",
       "                });\n",
       "            </script>\n",
       "        </div>"
      ]
     },
     "metadata": {},
     "output_type": "display_data"
    }
   ],
   "source": [
    "plotMisspelled(wakeText)"
   ]
  },
  {
   "cell_type": "code",
   "execution_count": 116,
   "metadata": {},
   "outputs": [
    {
     "data": {
      "application/vnd.plotly.v1+json": {
       "config": {
        "plotlyServerURL": "https://plot.ly"
       },
       "data": [
        {
         "alignmentgroup": "True",
         "customdata": [
          [
           [
            "     ULYSSES  by James Joyce     -- I --",
            "Stately, plump Buck Mulligan came from",
            "the stairhead, bearing a bowl of lather",
            "on which a mirror and a razor"
           ],
           "stairhead dressinggown ungirdled Introibo altare Dei jesuit gunrest untonsured ouns gunrest n't jesuit n't n't n't razorblade Scutter gunrest noserag "
          ],
          [
           [
            "er.  --What? Haines said, beginning to",
            "point at Stephen. He himself?  Buck",
            "Mulligan slung his towel stolewise round",
            "his neck and, bending in loose lau"
           ],
           "stolewise n't smokeplume mailboat wellshaped amn't ashplant fortyfoot birdsweet n't n't waistcoatpocket n't n't n't n't ashplant et apostolicam eccles"
          ],
          [
           [
            "heet._   His eyes open wide in vision",
            "stared sternly across the sunbeam in",
            "which he halted.  --A merchant, Stephen",
            "said, is one who buys cheap and sel"
           ],
           "goldskinned gemmed thickplotting unoffending rancours underjaw playfield Ay struggler cattletraders playfield couchant bullockbefriending coughball ga"
          ],
          [
           [
            "ro ad te veniet_. He comes, pale",
            "vampire, through storm his eyes, his bat",
            "sails bloodying the sea, mouth to her",
            "mouth's kiss.  Here. Put a pin in that"
           ],
           "fleshless moomb allwombing unspeeched ooeeehah cataractic wayawayawayawayaway manshape flutiest shamewounded longlashed visuality kickshaws pickmeup p"
          ],
          [
           [
            "rried out towards the smell, stepping",
            "hastily down the stairs with a flurried",
            "stork's legs. Pungent smoke shot up in",
            "an angry jet from a side of the p"
           ],
           "rried n't n't Anemic jarvey n't meatstained tabledrawer oilcakes n't Hallstand raincloak shopbell brillantined brushup paybox jakes limewash nextdoor "
          ],
          [
           [
            "rry I didn't work him about getting",
            "Molly into the choir instead of that",
            "Father Farley who looked a fool but",
            "wasn't. They're taught that. He's not",
            "goi"
           ],
           "n't n't blub swingdoor sodality altarrails n't mazzoth shewbread spreeish bootsole n't crawthumpers shiftylooking n't n't Quis n't n't massboy schschs"
          ],
          [
           [
            "ns' faces.  --That's an awfully good one",
            "that's going the rounds about Reuben J",
            "and the son.  --About the boatman? Mr",
            "Power asked.  --Yes. Isn't it aw"
           ],
           "ns n't n't hobbledehoy eightpence n't redhot adelite slaveys frontlet whitelined n't redlabelled n't streetorgan ownio croups Huuuh Springers dicky n'"
          ],
          [
           [
            "eceased, three pounds thirteen and six.",
            "With thanks.  I daresay the soil would",
            "be quite fat with corpsemanure, bones,",
            "flesh, nails. Charnelhouses. Dre"
           ],
           "corpsemanure swurls gurls n't De mortuis n't lankylooking Ay deadborn n't gravetrestles gravehead frockcoat n't n't deathchamber Bam n't fryingpan jin"
          ],
          [
           [
            "s taking a day off I see. Rather upsets",
            "a man's day, a funeral does. He has",
            "influence they say. Old Chatterton, the",
            "vicechancellor, is his granduncle"
           ],
           "vicechancellor greatgranduncle Subleader mighthavebeen n't baldheaded twere wellpraised Shite welshcombed blackspectacled Daw WETHERUP n't Daw Wetheru"
          ],
          [
           [
            "to hear, their smokes ascending in frail",
            "stalks that flowered with his speech.",
            "_And let our crooked smokes._ Noble",
            "words coming. Look out. Could you t"
           ],
           "highpriest babemaries stonehorned stonebearded daylabourers uncontradicted winejug ay boosing typesheets n't fellaheen fiftythree Blackpitts darlint f"
          ],
          [
           [
            "hat, he said. Poor thing! Three days!",
            "That's terrible for her.  Mrs Breen",
            "nodded.  --She was taken bad on the",
            "Tuesday...  Mr Bloom touched her funnybo"
           ],
           "funnybone heavystringed skullpiece dustcoat Tisdall wo n't frockcoat skullpiece stickumbrelladustcoat n't fortyfour exc vicereine staghounds Pothunter"
          ],
          [
           [
            "ares and part profits.  --Ay, now I",
            "remember, Nosey Flynn said, putting his",
            "hand in his pocket to scratch his groin.",
            "Who is this was telling me? Isn't"
           ],
           "Ay Nosey n't hanched longly smellsipped Nosey Carlow n't boose hindbar tuckstitched Nosey Nosey logwood n't pettycash Ay Ay Nosey Lenehan doggybowwows"
          ],
          [
           [
            "LE DISTRAIT      Piece de Shakespeare_",
            "He repeated to John Eglinton's",
            "newgathered frown:  --_Piece de",
            "Shakespeare_, don't you know. It's so",
            "French. T"
           ],
           "newgathered n't ou deathsman n't bloodboltered yawp ghoststory behoof impalpability patrum bankside groundlings swanmews wellset cerecloth vesture tru"
          ],
          [
           [
            "dare not speak its name.  --As an",
            "Englishman, you mean, John sturdy",
            "Eglinton put in, he loved a lord.  Old",
            "wall where sudden lizards flash. At",
            "Charent"
           ],
           "uneared giglot bedvow dullbrained thirtyfour countryfolk tithefarmer secondbest Separatio et thalamo n't suspired Catamite beautifulinsadness maltjobb"
          ],
          [
           [
            " thee a breechpad.  Manner of Oxenford.",
            "Day. Wheelbarrow sun over arch of",
            "bridge.  A dark back went before them,",
            "step of a pard, down, out by the gat"
           ],
           "breechpad Oxenford pard coigns hierophantic bless'd onelegged treeshade inkshining arecanut n't owlin pillarbox n't sixeyed Brunny Lynam Maginni frock"
          ],
          [
           [
            "she? Lenehan said.  A card _Unfurnished",
            "Apartments_ reappeared on the windowsash",
            "of number 7 Eccles street.  He checked",
            "his tale a moment but broke ou"
           ],
           "windowsash Delahunt glees bellyband gamey jarvey jingbang weeshy Poldy n't riverwall yachtingcap hindhead allroundman bloodred shopman Lovebirch n't d"
          ],
          [
           [
            "umps of sugar deftly longwise through",
            "the whipped cream. Buck Mulligan slit a",
            "steaming scone in two and plastered",
            "butter over its smoking pith. He bit"
           ],
           "longwise n't n't threemasted Tisdall stickumbrelladustcoat pleasance Coactus dustcoat onwards thewless sidemirrors Dignam pucking twentysecond soubret"
          ],
          [
           [
            "wer in his coat: who gave him?), and",
            "syrupped with her voice:  --Fine goods",
            "in small parcels.  That is to say she.",
            "Neatly she poured slowsyrupy sloe."
           ],
           "syrupped oceansong teatray cashregister ahunger ahumming elbowsleeve ryebloom n't skyblue Afterwits Sonnezlacloche Sonnez Sonnez smackwarm smackable w"
          ],
          [
           [
            " Dee.  He blotted quick on pad of Pat.",
            "Envel. Address. Just copy out of paper.",
            "Murmured: Messrs Callan, Coleman and Co,",
            "limited. Henry wrote:  Miss Ma"
           ],
           "Messrs n't rosery n't n't Hee hee hee hee Hee hee Hee hee hee hee Hee hee hee hee Hoh seahorn ginhot lovesongs wom bardoor anear n't seasmiling unansw"
          ],
          [
           [
            "agate with this dun.  So we turned into",
            "Barney Kiernan's and there, sure enough,",
            "was the citizen up in the corner having",
            "a great confab with himself a"
           ],
           "gloryhole cruiskeen Arrah ve n't chara towser broadshouldered deepchested stronglimbed frankeyed redhaired freelyfreckled largenosed brawnyhanded hair"
          ],
          [
           [
            "er, his cassock above his hoary head,",
            "and offered up to the throne of grace",
            "fervent prayers of supplication. Hand by",
            "the block stood the grim figure o"
           ],
           "tengallon worldfamous terra cotta milkjugs housesteward aliquot roomkeepers nec prebendary timehonoured fourleaved ster provostmarshal lieutenantcolon"
          ],
          [
           [
            "? says Joe.  --Recorder, says Ned.",
            "--Poor old sir Frederick, says Alf, you",
            "can cod him up to the two eyes.  --Heart",
            "as big as a lion, says Ned. Tell"
           ],
           "Ay n't oxeyed feastday chargeant brehons holden sinhedrim Iar rightwiseness donjon sleuthhounds ne n't nisi fancyman tailend puissant tholsel seadivid"
          ],
          [
           [
            "g bagman, that poisoned himself with the",
            "prussic acid after he swamping the",
            "country with his baubles and his penny",
            "diamonds. Loans by post on easy ter"
           ],
           "prussic orangeman swordhilt tabard ifaith Lackaday servest afasting collops widgeon bason medlar Gadzooks n't swaddler n't deedpoll ventre sa middling"
          ],
          [
           [
            " racing in the bicycle races in Trinity",
            "college university. Little recked he",
            "perhaps for what she felt, that dull",
            "aching void in her heart sometimes,"
           ],
           "recked Gerty n't Gerty selftinted vee cottonwool underbrim eggblue shopsoiled waterjug higharched wellturned Gerty rosepink peagreen n't n't pentup fe"
          ],
          [
           [
            " the strand to where there was the place",
            "to push up the pushcar and Cissy took",
            "off the twins' caps and tidied their",
            "hair to make herself attractive of"
           ],
           "pushcar Panem de coelo praestitisti eis Gerty ringdove kinnatt deedaw brandnew Gerty presbyterian toilettable whiterose eyebrowleine pouncetbox allimp"
          ],
          [
           [
            "It was too. Violets. Came from the",
            "turpentine probably in the paint. Make",
            "their own use of everything. Same time",
            "doing it scraped her slipper on the f"
           ],
           "n't n't Hm Hm Hm opoponax Hm Hm hogo Hm Hm n't macintosh lightingup n't nightclouds fluxions n't oilpainting plumstones breadvan drouth tabbywhite How"
          ],
          [
           [
            "ir by a warlock with his breath that he",
            "blases in to them like to bubbles. And",
            "full fair cheer and rich was on the",
            "board that no wight could devise a"
           ],
           "blases ne withouten misbelieving nie natheless olivepress wheatkidneys brewage alther upfloor dureth emprise childing tofore husbandly franklin frere "
          ],
          [
           [
            "rade for live stock and meadow auctions",
            "hard by Mr Gavin Low's yard in Prussia",
            "street. I question with you there, says",
            "he. More like 'tis the hoose or"
           ],
           "tis hoose tailtickler Rinderpest bestquoted chinashop cattlebreeder doughballs bulliness daisychains cowhouse spermacetic uarters Ay cattleraider whor"
          ],
          [
           [
            "and he stood for, envisaged in such",
            "cases an arrest of embryonic development",
            "at some stage antecedent to the human.",
            "An outlandish delegate sustained a"
           ],
           "avouchment shortlived allocution supremest submittal soulth bullawurrus rookshooting Lex talionis debtorship beholdeth booksatchel fullfledged orderbo"
          ],
          [
           [
            "ughty deed and no botch! Thou art, I",
            "vow, the remarkablest progenitor barring",
            "none in this chaffering allincluding",
            "most farraginous chronicle. Astound"
           ],
           "remarkablest chaffering allincluding farraginous bandog scholarment Malthusiasts bemoiled countinghouse newbegotten hayfever threnes trentals jeremies"
          ],
          [
           [
            "RS BREEN: Mr...  BLOOM: _(Coughs",
            "gravely)_ Madam, when we last had this",
            "pleasure by letter dated the sixteenth",
            "instant...  MRS BREEN: Mr Bloom! You do"
           ],
           "n't n't wo n't sminute cornerman upstarched smackfatclacking babby trumming tenderish frivol conjugials thoughtreading seriocomic wateredsilk halfmoon"
          ],
          [
           [
            "of John F. Taylor. He applies his",
            "handkerchief to his mouth and",
            "scrutinises the galloping tide of",
            "rosepink blood.)_  J.J.O'MOLLOY:",
            "_(Almost voicelessl"
           ],
           "rosepink O'MOLLOY wellchosen avine proboscidal soultransfigured soultransfiguring lowcorsaged balldress elbowlength sabletrimmed Lovebirch coney ninet"
          ],
          [
           [
            " fellow, not at all! (He gives his coat",
            "to a beggar) Please accept. _(He takes",
            "part in a stomach race with elderly male",
            "and female cripples)_ Come on,"
           ],
           "Daleth Hagadah Tephilim Yom Roschaschana Beni Brith Mazzoth Askenazim Meshuggah Paradisiacal NOSEY recognisances O'MOLLOY NOSEY hydrochlor Tinct nux v"
          ],
          [
           [
            "says.  JOHN EGLINTON: _(Produces a",
            "greencapped dark lantern and flashes it",
            "towards a corner: with carping accent)_",
            "Esthetics and cosmetics are for the"
           ],
           "greencapped Esthetics coalscuttle holyeyed seawind MACLIR Aum Ak Mor pimander seawind patsypunjaub wo n't stormbirds Shakti Aum dreamery judashand gas"
          ],
          [
           [
            "Y: Don't be too hard on her, Mr Bello.",
            "Sure you won't, ma'amsir.  BELLO:",
            "_(Coaxingly)_ Come, ducky dear, I want a",
            "word with you, darling, just to admi"
           ],
           "n't wo n't BELLO sweety n't nosering bastinado knout saddleback hamrashers n't n't BELLO rumping n't BELLO FLORRY n't rollingpin BELLO cigarsmoke vice"
          ],
          [
           [
            "will you?  ZOE: Forfeits, a fine thing",
            "and a superfine thing.  BLOOM: _(With",
            "feeling)_ It is nothing, but still, a",
            "relic of poor mamma.  ZOE:       Gi"
           ],
           "God'll n't God'll n't n't nostre etat FLORRY pettigown FLORRY Tis bella florry poundnote slyboots drawwell poundnote n't n't Hm Hm twobacks FLORRY tak"
          ],
          [
           [
            "l!  THE MOTHER: _(In the agony of her",
            "deathrattle)_ Have mercy on Stephen,",
            "Lord, for my sake! Inexpressible was my",
            "anguish when expiring with love, gr"
           ],
           "deathrattle ashplant GASJET n't ashplant halldoor ashplant n't n't n't gasjet ashplant n't sixpenceworth FLORRY n't boatraces Warningly Florry halldoo"
          ],
          [
           [
            "ite breast... dim sea.  _(He stretches",
            "out his arms, sighs again and curls his",
            "body. Bloom, holding the hat and",
            "ashplant, stands erect. A dog barks in"
           ],
           "ashplant ashplant eton bowknot ashplant cabman stonesthrow drinkables Jehu fourwheeler timehonoured dandered jarvey sandstrewer stonecutter fidus Acha"
          ],
          [
           [
            "ed to one of the jarvies with the",
            "request:  --You don't happen to have",
            "such a thing as a spare chaw about you?",
            "The jarvey addressed as it happened ha"
           ],
           "jarvies n't jarvey threemaster cleanlooking ve Gospodi pomilyou n't jarvey Khaan maneaters focussed diddies n't unostentatiously Boudin eggsniping de "
          ],
          [
           [
            "in dress, most of them, which greatly",
            "enhances a woman's natural beauty, no",
            "matter what you say. Rumpled stockings,",
            "it may be, possibly is, a foible o"
           ],
           "illfated jarvey Palme muggyish stager counterattraction bilgewater cabrank sentrybox doublebarrelled stiver coastwise au fait potation fagend wouldbe "
          ],
          [
           [
            "him once on the auspicious occasion when",
            "they broke up the type in the",
            "_Insuppressible_ or was it _United",
            "Ireland_, a privilege he keenly",
            "appreciated,"
           ],
           "Insuppressible n't shillyshally soi disant townclerk Ay cottonball evildisposed witnessbox lubric Irishtown wellknown applecart n't n't esthetic prima"
          ],
          [
           [
            "neas and Farnaby and son with their",
            "_dux_ and _comes_ conceits and Byrd",
            "(William) who played the virginals, he",
            "said, in the Queen's chapel or anywhere"
           ],
           "dux swingchains paven sixtyfive sixtyfive fourwalker hipshaker blackbuttocker taildangler headhanger n't noodly potheen sideface frows der dichten muc"
          ],
          [
           [
            "of the result, effected or projected,",
            "been received by him?  In Bernard",
            "Kiernan's licensed premises 8, 9 and 10",
            "little Britain street: in David Byrne'"
           ],
           "restituted counterestimating symposiarchal jocoserious massproduct frequentative Molldopeloob Bollopedoom Ollebo harlequinade posticipated Highnesses "
          ],
          [
           [
            "and, as an apparition of hope and youth,",
            "holds him unresisting. It leads him to a",
            "strange habitation, to a secret infidel",
            "apartment, and there, implac"
           ],
           "unresisting unresisting incitations veridicity heatless Padney skippingrope valerian neckarching uncommented waterrings mousewatching earwashing tumbl"
          ],
          [
           [
            "ially, rolled it into a thin cylinder,",
            "ignited it in the candleflame, applied",
            "it when ignited to the apex of the cone",
            "till the latter reached the stag"
           ],
           "candleflame rutilance arborescence bellshade giltbordered pierglass undecorated compassionated ipsorelative aliorelative ipsorelative aliorelative pro"
          ],
          [
           [
            "/o. P. O. Dolphin's Barn: the",
            "transliterated name and address of the",
            "addresser of the 3 letters in reversed",
            "alphabetic boustrophedonic punctated",
            "quadr"
           ],
           "addresser boustrophedonic punctated quadrilinear IGS UU MH IM creamlaid feintruled lowpower photocards buccal coition rere thaumaturgic wellknown Gert"
          ],
          [
           [
            "thin the natural female organ, having",
            "last taken place 5 weeks previous, viz.",
            "27 November 1893, to the birth on 29",
            "December 1893 of second (and only m"
           ],
           "catamenic hemorrhage preestablished upcast rereward everchanging neverchanging semilaterally childman manchild Jinbad Failer Binbad Vinbad roc rocs me"
          ],
          [
           [
            "gets you on on the stage the last",
            "concert I sang at where its over a year",
            "ago when was it St Teresas hall",
            "Clarendon St little chits of missies",
            "they ha"
           ],
           "missies nt Stabat jesuits freemason nt th Bn nt Krugers finelooking nt ve handglass scrooching skyblue stoppress joult featherbed nt fishslicers nt nt"
          ],
          [
           [
            "on robbing the chickens out of Inces",
            "farm and throw stones at you if you went",
            "anear he was looking at me I had that",
            "white blouse on open in the front"
           ],
           "casemates plotching ricestraw nt limesalts nt rrrsssstt awokwokawok whatyoucallit whatyoucallit nt burialplace nt nt nt Williss sandfrog nt cleanshave"
          ],
          [
           [
            "in all creation another man with the",
            "habits he has look at the way hes",
            "sleeping at the foot of the bed how can",
            "he without a hard bolster its well he d"
           ],
           "nt wifes nt huguenots salvations nt nt nt nt newlaid nt nt nt wethen nt nt coalcellar blackbeetles forlornlooking nt childs sheeps mens lowneck nt goo"
          ]
         ],
         "hovertemplate": "segment=%{x}<br>nMisspelled=%{y}<br>previews=%{customdata[0]}<br>misspelled=%{customdata[1]}<extra></extra>",
         "legendgroup": "",
         "marker": {
          "color": "#636efa"
         },
         "name": "",
         "offsetgroup": "",
         "orientation": "v",
         "showlegend": false,
         "textposition": "auto",
         "type": "bar",
         "x": [
          0,
          1,
          2,
          3,
          4,
          5,
          6,
          7,
          8,
          9,
          10,
          11,
          12,
          13,
          14,
          15,
          16,
          17,
          18,
          19,
          20,
          21,
          22,
          23,
          24,
          25,
          26,
          27,
          28,
          29,
          30,
          31,
          32,
          33,
          34,
          35,
          36,
          37,
          38,
          39,
          40,
          41,
          42,
          43,
          44,
          45,
          46,
          47,
          48,
          49
         ],
         "xaxis": "x",
         "y": [
          142,
          107,
          250,
          156,
          116,
          100,
          91,
          123,
          121,
          122,
          134,
          147,
          150,
          157,
          169,
          131,
          151,
          153,
          173,
          139,
          126,
          122,
          137,
          105,
          106,
          137,
          193,
          135,
          110,
          318,
          155,
          150,
          191,
          221,
          219,
          222,
          183,
          105,
          102,
          82,
          79,
          126,
          104,
          131,
          153,
          120,
          107,
          137,
          135,
          151
         ],
         "yaxis": "y"
        }
       ],
       "layout": {
        "barmode": "relative",
        "legend": {
         "tracegroupgap": 0
        },
        "margin": {
         "t": 60
        },
        "template": {
         "data": {
          "bar": [
           {
            "error_x": {
             "color": "#2a3f5f"
            },
            "error_y": {
             "color": "#2a3f5f"
            },
            "marker": {
             "line": {
              "color": "#E5ECF6",
              "width": 0.5
             }
            },
            "type": "bar"
           }
          ],
          "barpolar": [
           {
            "marker": {
             "line": {
              "color": "#E5ECF6",
              "width": 0.5
             }
            },
            "type": "barpolar"
           }
          ],
          "carpet": [
           {
            "aaxis": {
             "endlinecolor": "#2a3f5f",
             "gridcolor": "white",
             "linecolor": "white",
             "minorgridcolor": "white",
             "startlinecolor": "#2a3f5f"
            },
            "baxis": {
             "endlinecolor": "#2a3f5f",
             "gridcolor": "white",
             "linecolor": "white",
             "minorgridcolor": "white",
             "startlinecolor": "#2a3f5f"
            },
            "type": "carpet"
           }
          ],
          "choropleth": [
           {
            "colorbar": {
             "outlinewidth": 0,
             "ticks": ""
            },
            "type": "choropleth"
           }
          ],
          "contour": [
           {
            "colorbar": {
             "outlinewidth": 0,
             "ticks": ""
            },
            "colorscale": [
             [
              0,
              "#0d0887"
             ],
             [
              0.1111111111111111,
              "#46039f"
             ],
             [
              0.2222222222222222,
              "#7201a8"
             ],
             [
              0.3333333333333333,
              "#9c179e"
             ],
             [
              0.4444444444444444,
              "#bd3786"
             ],
             [
              0.5555555555555556,
              "#d8576b"
             ],
             [
              0.6666666666666666,
              "#ed7953"
             ],
             [
              0.7777777777777778,
              "#fb9f3a"
             ],
             [
              0.8888888888888888,
              "#fdca26"
             ],
             [
              1,
              "#f0f921"
             ]
            ],
            "type": "contour"
           }
          ],
          "contourcarpet": [
           {
            "colorbar": {
             "outlinewidth": 0,
             "ticks": ""
            },
            "type": "contourcarpet"
           }
          ],
          "heatmap": [
           {
            "colorbar": {
             "outlinewidth": 0,
             "ticks": ""
            },
            "colorscale": [
             [
              0,
              "#0d0887"
             ],
             [
              0.1111111111111111,
              "#46039f"
             ],
             [
              0.2222222222222222,
              "#7201a8"
             ],
             [
              0.3333333333333333,
              "#9c179e"
             ],
             [
              0.4444444444444444,
              "#bd3786"
             ],
             [
              0.5555555555555556,
              "#d8576b"
             ],
             [
              0.6666666666666666,
              "#ed7953"
             ],
             [
              0.7777777777777778,
              "#fb9f3a"
             ],
             [
              0.8888888888888888,
              "#fdca26"
             ],
             [
              1,
              "#f0f921"
             ]
            ],
            "type": "heatmap"
           }
          ],
          "heatmapgl": [
           {
            "colorbar": {
             "outlinewidth": 0,
             "ticks": ""
            },
            "colorscale": [
             [
              0,
              "#0d0887"
             ],
             [
              0.1111111111111111,
              "#46039f"
             ],
             [
              0.2222222222222222,
              "#7201a8"
             ],
             [
              0.3333333333333333,
              "#9c179e"
             ],
             [
              0.4444444444444444,
              "#bd3786"
             ],
             [
              0.5555555555555556,
              "#d8576b"
             ],
             [
              0.6666666666666666,
              "#ed7953"
             ],
             [
              0.7777777777777778,
              "#fb9f3a"
             ],
             [
              0.8888888888888888,
              "#fdca26"
             ],
             [
              1,
              "#f0f921"
             ]
            ],
            "type": "heatmapgl"
           }
          ],
          "histogram": [
           {
            "marker": {
             "colorbar": {
              "outlinewidth": 0,
              "ticks": ""
             }
            },
            "type": "histogram"
           }
          ],
          "histogram2d": [
           {
            "colorbar": {
             "outlinewidth": 0,
             "ticks": ""
            },
            "colorscale": [
             [
              0,
              "#0d0887"
             ],
             [
              0.1111111111111111,
              "#46039f"
             ],
             [
              0.2222222222222222,
              "#7201a8"
             ],
             [
              0.3333333333333333,
              "#9c179e"
             ],
             [
              0.4444444444444444,
              "#bd3786"
             ],
             [
              0.5555555555555556,
              "#d8576b"
             ],
             [
              0.6666666666666666,
              "#ed7953"
             ],
             [
              0.7777777777777778,
              "#fb9f3a"
             ],
             [
              0.8888888888888888,
              "#fdca26"
             ],
             [
              1,
              "#f0f921"
             ]
            ],
            "type": "histogram2d"
           }
          ],
          "histogram2dcontour": [
           {
            "colorbar": {
             "outlinewidth": 0,
             "ticks": ""
            },
            "colorscale": [
             [
              0,
              "#0d0887"
             ],
             [
              0.1111111111111111,
              "#46039f"
             ],
             [
              0.2222222222222222,
              "#7201a8"
             ],
             [
              0.3333333333333333,
              "#9c179e"
             ],
             [
              0.4444444444444444,
              "#bd3786"
             ],
             [
              0.5555555555555556,
              "#d8576b"
             ],
             [
              0.6666666666666666,
              "#ed7953"
             ],
             [
              0.7777777777777778,
              "#fb9f3a"
             ],
             [
              0.8888888888888888,
              "#fdca26"
             ],
             [
              1,
              "#f0f921"
             ]
            ],
            "type": "histogram2dcontour"
           }
          ],
          "mesh3d": [
           {
            "colorbar": {
             "outlinewidth": 0,
             "ticks": ""
            },
            "type": "mesh3d"
           }
          ],
          "parcoords": [
           {
            "line": {
             "colorbar": {
              "outlinewidth": 0,
              "ticks": ""
             }
            },
            "type": "parcoords"
           }
          ],
          "pie": [
           {
            "automargin": true,
            "type": "pie"
           }
          ],
          "scatter": [
           {
            "marker": {
             "colorbar": {
              "outlinewidth": 0,
              "ticks": ""
             }
            },
            "type": "scatter"
           }
          ],
          "scatter3d": [
           {
            "line": {
             "colorbar": {
              "outlinewidth": 0,
              "ticks": ""
             }
            },
            "marker": {
             "colorbar": {
              "outlinewidth": 0,
              "ticks": ""
             }
            },
            "type": "scatter3d"
           }
          ],
          "scattercarpet": [
           {
            "marker": {
             "colorbar": {
              "outlinewidth": 0,
              "ticks": ""
             }
            },
            "type": "scattercarpet"
           }
          ],
          "scattergeo": [
           {
            "marker": {
             "colorbar": {
              "outlinewidth": 0,
              "ticks": ""
             }
            },
            "type": "scattergeo"
           }
          ],
          "scattergl": [
           {
            "marker": {
             "colorbar": {
              "outlinewidth": 0,
              "ticks": ""
             }
            },
            "type": "scattergl"
           }
          ],
          "scattermapbox": [
           {
            "marker": {
             "colorbar": {
              "outlinewidth": 0,
              "ticks": ""
             }
            },
            "type": "scattermapbox"
           }
          ],
          "scatterpolar": [
           {
            "marker": {
             "colorbar": {
              "outlinewidth": 0,
              "ticks": ""
             }
            },
            "type": "scatterpolar"
           }
          ],
          "scatterpolargl": [
           {
            "marker": {
             "colorbar": {
              "outlinewidth": 0,
              "ticks": ""
             }
            },
            "type": "scatterpolargl"
           }
          ],
          "scatterternary": [
           {
            "marker": {
             "colorbar": {
              "outlinewidth": 0,
              "ticks": ""
             }
            },
            "type": "scatterternary"
           }
          ],
          "surface": [
           {
            "colorbar": {
             "outlinewidth": 0,
             "ticks": ""
            },
            "colorscale": [
             [
              0,
              "#0d0887"
             ],
             [
              0.1111111111111111,
              "#46039f"
             ],
             [
              0.2222222222222222,
              "#7201a8"
             ],
             [
              0.3333333333333333,
              "#9c179e"
             ],
             [
              0.4444444444444444,
              "#bd3786"
             ],
             [
              0.5555555555555556,
              "#d8576b"
             ],
             [
              0.6666666666666666,
              "#ed7953"
             ],
             [
              0.7777777777777778,
              "#fb9f3a"
             ],
             [
              0.8888888888888888,
              "#fdca26"
             ],
             [
              1,
              "#f0f921"
             ]
            ],
            "type": "surface"
           }
          ],
          "table": [
           {
            "cells": {
             "fill": {
              "color": "#EBF0F8"
             },
             "line": {
              "color": "white"
             }
            },
            "header": {
             "fill": {
              "color": "#C8D4E3"
             },
             "line": {
              "color": "white"
             }
            },
            "type": "table"
           }
          ]
         },
         "layout": {
          "annotationdefaults": {
           "arrowcolor": "#2a3f5f",
           "arrowhead": 0,
           "arrowwidth": 1
          },
          "coloraxis": {
           "colorbar": {
            "outlinewidth": 0,
            "ticks": ""
           }
          },
          "colorscale": {
           "diverging": [
            [
             0,
             "#8e0152"
            ],
            [
             0.1,
             "#c51b7d"
            ],
            [
             0.2,
             "#de77ae"
            ],
            [
             0.3,
             "#f1b6da"
            ],
            [
             0.4,
             "#fde0ef"
            ],
            [
             0.5,
             "#f7f7f7"
            ],
            [
             0.6,
             "#e6f5d0"
            ],
            [
             0.7,
             "#b8e186"
            ],
            [
             0.8,
             "#7fbc41"
            ],
            [
             0.9,
             "#4d9221"
            ],
            [
             1,
             "#276419"
            ]
           ],
           "sequential": [
            [
             0,
             "#0d0887"
            ],
            [
             0.1111111111111111,
             "#46039f"
            ],
            [
             0.2222222222222222,
             "#7201a8"
            ],
            [
             0.3333333333333333,
             "#9c179e"
            ],
            [
             0.4444444444444444,
             "#bd3786"
            ],
            [
             0.5555555555555556,
             "#d8576b"
            ],
            [
             0.6666666666666666,
             "#ed7953"
            ],
            [
             0.7777777777777778,
             "#fb9f3a"
            ],
            [
             0.8888888888888888,
             "#fdca26"
            ],
            [
             1,
             "#f0f921"
            ]
           ],
           "sequentialminus": [
            [
             0,
             "#0d0887"
            ],
            [
             0.1111111111111111,
             "#46039f"
            ],
            [
             0.2222222222222222,
             "#7201a8"
            ],
            [
             0.3333333333333333,
             "#9c179e"
            ],
            [
             0.4444444444444444,
             "#bd3786"
            ],
            [
             0.5555555555555556,
             "#d8576b"
            ],
            [
             0.6666666666666666,
             "#ed7953"
            ],
            [
             0.7777777777777778,
             "#fb9f3a"
            ],
            [
             0.8888888888888888,
             "#fdca26"
            ],
            [
             1,
             "#f0f921"
            ]
           ]
          },
          "colorway": [
           "#636efa",
           "#EF553B",
           "#00cc96",
           "#ab63fa",
           "#FFA15A",
           "#19d3f3",
           "#FF6692",
           "#B6E880",
           "#FF97FF",
           "#FECB52"
          ],
          "font": {
           "color": "#2a3f5f"
          },
          "geo": {
           "bgcolor": "white",
           "lakecolor": "white",
           "landcolor": "#E5ECF6",
           "showlakes": true,
           "showland": true,
           "subunitcolor": "white"
          },
          "hoverlabel": {
           "align": "left"
          },
          "hovermode": "closest",
          "mapbox": {
           "style": "light"
          },
          "paper_bgcolor": "white",
          "plot_bgcolor": "#E5ECF6",
          "polar": {
           "angularaxis": {
            "gridcolor": "white",
            "linecolor": "white",
            "ticks": ""
           },
           "bgcolor": "#E5ECF6",
           "radialaxis": {
            "gridcolor": "white",
            "linecolor": "white",
            "ticks": ""
           }
          },
          "scene": {
           "xaxis": {
            "backgroundcolor": "#E5ECF6",
            "gridcolor": "white",
            "gridwidth": 2,
            "linecolor": "white",
            "showbackground": true,
            "ticks": "",
            "zerolinecolor": "white"
           },
           "yaxis": {
            "backgroundcolor": "#E5ECF6",
            "gridcolor": "white",
            "gridwidth": 2,
            "linecolor": "white",
            "showbackground": true,
            "ticks": "",
            "zerolinecolor": "white"
           },
           "zaxis": {
            "backgroundcolor": "#E5ECF6",
            "gridcolor": "white",
            "gridwidth": 2,
            "linecolor": "white",
            "showbackground": true,
            "ticks": "",
            "zerolinecolor": "white"
           }
          },
          "shapedefaults": {
           "line": {
            "color": "#2a3f5f"
           }
          },
          "ternary": {
           "aaxis": {
            "gridcolor": "white",
            "linecolor": "white",
            "ticks": ""
           },
           "baxis": {
            "gridcolor": "white",
            "linecolor": "white",
            "ticks": ""
           },
           "bgcolor": "#E5ECF6",
           "caxis": {
            "gridcolor": "white",
            "linecolor": "white",
            "ticks": ""
           }
          },
          "title": {
           "x": 0.05
          },
          "xaxis": {
           "automargin": true,
           "gridcolor": "white",
           "linecolor": "white",
           "ticks": "",
           "title": {
            "standoff": 15
           },
           "zerolinecolor": "white",
           "zerolinewidth": 2
          },
          "yaxis": {
           "automargin": true,
           "gridcolor": "white",
           "linecolor": "white",
           "ticks": "",
           "title": {
            "standoff": 15
           },
           "zerolinecolor": "white",
           "zerolinewidth": 2
          }
         }
        },
        "xaxis": {
         "anchor": "y",
         "domain": [
          0,
          1
         ],
         "title": {
          "text": "segment"
         }
        },
        "yaxis": {
         "anchor": "x",
         "domain": [
          0,
          1
         ],
         "title": {
          "text": "nMisspelled"
         }
        }
       }
      },
      "text/html": [
       "<div>\n",
       "        \n",
       "        \n",
       "            <div id=\"5ba3414e-ed47-48ca-8803-5f40b02030ec\" class=\"plotly-graph-div\" style=\"height:525px; width:100%;\"></div>\n",
       "            <script type=\"text/javascript\">\n",
       "                require([\"plotly\"], function(Plotly) {\n",
       "                    window.PLOTLYENV=window.PLOTLYENV || {};\n",
       "                    \n",
       "                if (document.getElementById(\"5ba3414e-ed47-48ca-8803-5f40b02030ec\")) {\n",
       "                    Plotly.newPlot(\n",
       "                        '5ba3414e-ed47-48ca-8803-5f40b02030ec',\n",
       "                        [{\"alignmentgroup\": \"True\", \"customdata\": [[[\"     ULYSSES  by James Joyce     -- I --\", \"Stately, plump Buck Mulligan came from\", \"the stairhead, bearing a bowl of lather\", \"on which a mirror and a razor\"], \"stairhead dressinggown ungirdled Introibo altare Dei jesuit gunrest untonsured ouns gunrest n't jesuit n't n't n't razorblade Scutter gunrest noserag \"], [[\"er.  --What? Haines said, beginning to\", \"point at Stephen. He himself?  Buck\", \"Mulligan slung his towel stolewise round\", \"his neck and, bending in loose lau\"], \"stolewise n't smokeplume mailboat wellshaped amn't ashplant fortyfoot birdsweet n't n't waistcoatpocket n't n't n't n't ashplant et apostolicam eccles\"], [[\"heet._   His eyes open wide in vision\", \"stared sternly across the sunbeam in\", \"which he halted.  --A merchant, Stephen\", \"said, is one who buys cheap and sel\"], \"goldskinned gemmed thickplotting unoffending rancours underjaw playfield Ay struggler cattletraders playfield couchant bullockbefriending coughball ga\"], [[\"ro ad te veniet_. He comes, pale\", \"vampire, through storm his eyes, his bat\", \"sails bloodying the sea, mouth to her\", \"mouth's kiss.  Here. Put a pin in that\"], \"fleshless moomb allwombing unspeeched ooeeehah cataractic wayawayawayawayaway manshape flutiest shamewounded longlashed visuality kickshaws pickmeup p\"], [[\"rried out towards the smell, stepping\", \"hastily down the stairs with a flurried\", \"stork's legs. Pungent smoke shot up in\", \"an angry jet from a side of the p\"], \"rried n't n't Anemic jarvey n't meatstained tabledrawer oilcakes n't Hallstand raincloak shopbell brillantined brushup paybox jakes limewash nextdoor \"], [[\"rry I didn't work him about getting\", \"Molly into the choir instead of that\", \"Father Farley who looked a fool but\", \"wasn't. They're taught that. He's not\", \"goi\"], \"n't n't blub swingdoor sodality altarrails n't mazzoth shewbread spreeish bootsole n't crawthumpers shiftylooking n't n't Quis n't n't massboy schschs\"], [[\"ns' faces.  --That's an awfully good one\", \"that's going the rounds about Reuben J\", \"and the son.  --About the boatman? Mr\", \"Power asked.  --Yes. Isn't it aw\"], \"ns n't n't hobbledehoy eightpence n't redhot adelite slaveys frontlet whitelined n't redlabelled n't streetorgan ownio croups Huuuh Springers dicky n'\"], [[\"eceased, three pounds thirteen and six.\", \"With thanks.  I daresay the soil would\", \"be quite fat with corpsemanure, bones,\", \"flesh, nails. Charnelhouses. Dre\"], \"corpsemanure swurls gurls n't De mortuis n't lankylooking Ay deadborn n't gravetrestles gravehead frockcoat n't n't deathchamber Bam n't fryingpan jin\"], [[\"s taking a day off I see. Rather upsets\", \"a man's day, a funeral does. He has\", \"influence they say. Old Chatterton, the\", \"vicechancellor, is his granduncle\"], \"vicechancellor greatgranduncle Subleader mighthavebeen n't baldheaded twere wellpraised Shite welshcombed blackspectacled Daw WETHERUP n't Daw Wetheru\"], [[\"to hear, their smokes ascending in frail\", \"stalks that flowered with his speech.\", \"_And let our crooked smokes._ Noble\", \"words coming. Look out. Could you t\"], \"highpriest babemaries stonehorned stonebearded daylabourers uncontradicted winejug ay boosing typesheets n't fellaheen fiftythree Blackpitts darlint f\"], [[\"hat, he said. Poor thing! Three days!\", \"That's terrible for her.  Mrs Breen\", \"nodded.  --She was taken bad on the\", \"Tuesday...  Mr Bloom touched her funnybo\"], \"funnybone heavystringed skullpiece dustcoat Tisdall wo n't frockcoat skullpiece stickumbrelladustcoat n't fortyfour exc vicereine staghounds Pothunter\"], [[\"ares and part profits.  --Ay, now I\", \"remember, Nosey Flynn said, putting his\", \"hand in his pocket to scratch his groin.\", \"Who is this was telling me? Isn't\"], \"Ay Nosey n't hanched longly smellsipped Nosey Carlow n't boose hindbar tuckstitched Nosey Nosey logwood n't pettycash Ay Ay Nosey Lenehan doggybowwows\"], [[\"LE DISTRAIT      Piece de Shakespeare_\", \"He repeated to John Eglinton's\", \"newgathered frown:  --_Piece de\", \"Shakespeare_, don't you know. It's so\", \"French. T\"], \"newgathered n't ou deathsman n't bloodboltered yawp ghoststory behoof impalpability patrum bankside groundlings swanmews wellset cerecloth vesture tru\"], [[\"dare not speak its name.  --As an\", \"Englishman, you mean, John sturdy\", \"Eglinton put in, he loved a lord.  Old\", \"wall where sudden lizards flash. At\", \"Charent\"], \"uneared giglot bedvow dullbrained thirtyfour countryfolk tithefarmer secondbest Separatio et thalamo n't suspired Catamite beautifulinsadness maltjobb\"], [[\" thee a breechpad.  Manner of Oxenford.\", \"Day. Wheelbarrow sun over arch of\", \"bridge.  A dark back went before them,\", \"step of a pard, down, out by the gat\"], \"breechpad Oxenford pard coigns hierophantic bless'd onelegged treeshade inkshining arecanut n't owlin pillarbox n't sixeyed Brunny Lynam Maginni frock\"], [[\"she? Lenehan said.  A card _Unfurnished\", \"Apartments_ reappeared on the windowsash\", \"of number 7 Eccles street.  He checked\", \"his tale a moment but broke ou\"], \"windowsash Delahunt glees bellyband gamey jarvey jingbang weeshy Poldy n't riverwall yachtingcap hindhead allroundman bloodred shopman Lovebirch n't d\"], [[\"umps of sugar deftly longwise through\", \"the whipped cream. Buck Mulligan slit a\", \"steaming scone in two and plastered\", \"butter over its smoking pith. He bit\"], \"longwise n't n't threemasted Tisdall stickumbrelladustcoat pleasance Coactus dustcoat onwards thewless sidemirrors Dignam pucking twentysecond soubret\"], [[\"wer in his coat: who gave him?), and\", \"syrupped with her voice:  --Fine goods\", \"in small parcels.  That is to say she.\", \"Neatly she poured slowsyrupy sloe.\"], \"syrupped oceansong teatray cashregister ahunger ahumming elbowsleeve ryebloom n't skyblue Afterwits Sonnezlacloche Sonnez Sonnez smackwarm smackable w\"], [[\" Dee.  He blotted quick on pad of Pat.\", \"Envel. Address. Just copy out of paper.\", \"Murmured: Messrs Callan, Coleman and Co,\", \"limited. Henry wrote:  Miss Ma\"], \"Messrs n't rosery n't n't Hee hee hee hee Hee hee Hee hee hee hee Hee hee hee hee Hoh seahorn ginhot lovesongs wom bardoor anear n't seasmiling unansw\"], [[\"agate with this dun.  So we turned into\", \"Barney Kiernan's and there, sure enough,\", \"was the citizen up in the corner having\", \"a great confab with himself a\"], \"gloryhole cruiskeen Arrah ve n't chara towser broadshouldered deepchested stronglimbed frankeyed redhaired freelyfreckled largenosed brawnyhanded hair\"], [[\"er, his cassock above his hoary head,\", \"and offered up to the throne of grace\", \"fervent prayers of supplication. Hand by\", \"the block stood the grim figure o\"], \"tengallon worldfamous terra cotta milkjugs housesteward aliquot roomkeepers nec prebendary timehonoured fourleaved ster provostmarshal lieutenantcolon\"], [[\"? says Joe.  --Recorder, says Ned.\", \"--Poor old sir Frederick, says Alf, you\", \"can cod him up to the two eyes.  --Heart\", \"as big as a lion, says Ned. Tell\"], \"Ay n't oxeyed feastday chargeant brehons holden sinhedrim Iar rightwiseness donjon sleuthhounds ne n't nisi fancyman tailend puissant tholsel seadivid\"], [[\"g bagman, that poisoned himself with the\", \"prussic acid after he swamping the\", \"country with his baubles and his penny\", \"diamonds. Loans by post on easy ter\"], \"prussic orangeman swordhilt tabard ifaith Lackaday servest afasting collops widgeon bason medlar Gadzooks n't swaddler n't deedpoll ventre sa middling\"], [[\" racing in the bicycle races in Trinity\", \"college university. Little recked he\", \"perhaps for what she felt, that dull\", \"aching void in her heart sometimes,\"], \"recked Gerty n't Gerty selftinted vee cottonwool underbrim eggblue shopsoiled waterjug higharched wellturned Gerty rosepink peagreen n't n't pentup fe\"], [[\" the strand to where there was the place\", \"to push up the pushcar and Cissy took\", \"off the twins' caps and tidied their\", \"hair to make herself attractive of\"], \"pushcar Panem de coelo praestitisti eis Gerty ringdove kinnatt deedaw brandnew Gerty presbyterian toilettable whiterose eyebrowleine pouncetbox allimp\"], [[\"It was too. Violets. Came from the\", \"turpentine probably in the paint. Make\", \"their own use of everything. Same time\", \"doing it scraped her slipper on the f\"], \"n't n't Hm Hm Hm opoponax Hm Hm hogo Hm Hm n't macintosh lightingup n't nightclouds fluxions n't oilpainting plumstones breadvan drouth tabbywhite How\"], [[\"ir by a warlock with his breath that he\", \"blases in to them like to bubbles. And\", \"full fair cheer and rich was on the\", \"board that no wight could devise a\"], \"blases ne withouten misbelieving nie natheless olivepress wheatkidneys brewage alther upfloor dureth emprise childing tofore husbandly franklin frere \"], [[\"rade for live stock and meadow auctions\", \"hard by Mr Gavin Low's yard in Prussia\", \"street. I question with you there, says\", \"he. More like 'tis the hoose or\"], \"tis hoose tailtickler Rinderpest bestquoted chinashop cattlebreeder doughballs bulliness daisychains cowhouse spermacetic uarters Ay cattleraider whor\"], [[\"and he stood for, envisaged in such\", \"cases an arrest of embryonic development\", \"at some stage antecedent to the human.\", \"An outlandish delegate sustained a\"], \"avouchment shortlived allocution supremest submittal soulth bullawurrus rookshooting Lex talionis debtorship beholdeth booksatchel fullfledged orderbo\"], [[\"ughty deed and no botch! Thou art, I\", \"vow, the remarkablest progenitor barring\", \"none in this chaffering allincluding\", \"most farraginous chronicle. Astound\"], \"remarkablest chaffering allincluding farraginous bandog scholarment Malthusiasts bemoiled countinghouse newbegotten hayfever threnes trentals jeremies\"], [[\"RS BREEN: Mr...  BLOOM: _(Coughs\", \"gravely)_ Madam, when we last had this\", \"pleasure by letter dated the sixteenth\", \"instant...  MRS BREEN: Mr Bloom! You do\"], \"n't n't wo n't sminute cornerman upstarched smackfatclacking babby trumming tenderish frivol conjugials thoughtreading seriocomic wateredsilk halfmoon\"], [[\"of John F. Taylor. He applies his\", \"handkerchief to his mouth and\", \"scrutinises the galloping tide of\", \"rosepink blood.)_  J.J.O'MOLLOY:\", \"_(Almost voicelessl\"], \"rosepink O'MOLLOY wellchosen avine proboscidal soultransfigured soultransfiguring lowcorsaged balldress elbowlength sabletrimmed Lovebirch coney ninet\"], [[\" fellow, not at all! (He gives his coat\", \"to a beggar) Please accept. _(He takes\", \"part in a stomach race with elderly male\", \"and female cripples)_ Come on,\"], \"Daleth Hagadah Tephilim Yom Roschaschana Beni Brith Mazzoth Askenazim Meshuggah Paradisiacal NOSEY recognisances O'MOLLOY NOSEY hydrochlor Tinct nux v\"], [[\"says.  JOHN EGLINTON: _(Produces a\", \"greencapped dark lantern and flashes it\", \"towards a corner: with carping accent)_\", \"Esthetics and cosmetics are for the\"], \"greencapped Esthetics coalscuttle holyeyed seawind MACLIR Aum Ak Mor pimander seawind patsypunjaub wo n't stormbirds Shakti Aum dreamery judashand gas\"], [[\"Y: Don't be too hard on her, Mr Bello.\", \"Sure you won't, ma'amsir.  BELLO:\", \"_(Coaxingly)_ Come, ducky dear, I want a\", \"word with you, darling, just to admi\"], \"n't wo n't BELLO sweety n't nosering bastinado knout saddleback hamrashers n't n't BELLO rumping n't BELLO FLORRY n't rollingpin BELLO cigarsmoke vice\"], [[\"will you?  ZOE: Forfeits, a fine thing\", \"and a superfine thing.  BLOOM: _(With\", \"feeling)_ It is nothing, but still, a\", \"relic of poor mamma.  ZOE:       Gi\"], \"God'll n't God'll n't n't nostre etat FLORRY pettigown FLORRY Tis bella florry poundnote slyboots drawwell poundnote n't n't Hm Hm twobacks FLORRY tak\"], [[\"l!  THE MOTHER: _(In the agony of her\", \"deathrattle)_ Have mercy on Stephen,\", \"Lord, for my sake! Inexpressible was my\", \"anguish when expiring with love, gr\"], \"deathrattle ashplant GASJET n't ashplant halldoor ashplant n't n't n't gasjet ashplant n't sixpenceworth FLORRY n't boatraces Warningly Florry halldoo\"], [[\"ite breast... dim sea.  _(He stretches\", \"out his arms, sighs again and curls his\", \"body. Bloom, holding the hat and\", \"ashplant, stands erect. A dog barks in\"], \"ashplant ashplant eton bowknot ashplant cabman stonesthrow drinkables Jehu fourwheeler timehonoured dandered jarvey sandstrewer stonecutter fidus Acha\"], [[\"ed to one of the jarvies with the\", \"request:  --You don't happen to have\", \"such a thing as a spare chaw about you?\", \"The jarvey addressed as it happened ha\"], \"jarvies n't jarvey threemaster cleanlooking ve Gospodi pomilyou n't jarvey Khaan maneaters focussed diddies n't unostentatiously Boudin eggsniping de \"], [[\"in dress, most of them, which greatly\", \"enhances a woman's natural beauty, no\", \"matter what you say. Rumpled stockings,\", \"it may be, possibly is, a foible o\"], \"illfated jarvey Palme muggyish stager counterattraction bilgewater cabrank sentrybox doublebarrelled stiver coastwise au fait potation fagend wouldbe \"], [[\"him once on the auspicious occasion when\", \"they broke up the type in the\", \"_Insuppressible_ or was it _United\", \"Ireland_, a privilege he keenly\", \"appreciated,\"], \"Insuppressible n't shillyshally soi disant townclerk Ay cottonball evildisposed witnessbox lubric Irishtown wellknown applecart n't n't esthetic prima\"], [[\"neas and Farnaby and son with their\", \"_dux_ and _comes_ conceits and Byrd\", \"(William) who played the virginals, he\", \"said, in the Queen's chapel or anywhere\"], \"dux swingchains paven sixtyfive sixtyfive fourwalker hipshaker blackbuttocker taildangler headhanger n't noodly potheen sideface frows der dichten muc\"], [[\"of the result, effected or projected,\", \"been received by him?  In Bernard\", \"Kiernan's licensed premises 8, 9 and 10\", \"little Britain street: in David Byrne'\"], \"restituted counterestimating symposiarchal jocoserious massproduct frequentative Molldopeloob Bollopedoom Ollebo harlequinade posticipated Highnesses \"], [[\"and, as an apparition of hope and youth,\", \"holds him unresisting. It leads him to a\", \"strange habitation, to a secret infidel\", \"apartment, and there, implac\"], \"unresisting unresisting incitations veridicity heatless Padney skippingrope valerian neckarching uncommented waterrings mousewatching earwashing tumbl\"], [[\"ially, rolled it into a thin cylinder,\", \"ignited it in the candleflame, applied\", \"it when ignited to the apex of the cone\", \"till the latter reached the stag\"], \"candleflame rutilance arborescence bellshade giltbordered pierglass undecorated compassionated ipsorelative aliorelative ipsorelative aliorelative pro\"], [[\"/o. P. O. Dolphin's Barn: the\", \"transliterated name and address of the\", \"addresser of the 3 letters in reversed\", \"alphabetic boustrophedonic punctated\", \"quadr\"], \"addresser boustrophedonic punctated quadrilinear IGS UU MH IM creamlaid feintruled lowpower photocards buccal coition rere thaumaturgic wellknown Gert\"], [[\"thin the natural female organ, having\", \"last taken place 5 weeks previous, viz.\", \"27 November 1893, to the birth on 29\", \"December 1893 of second (and only m\"], \"catamenic hemorrhage preestablished upcast rereward everchanging neverchanging semilaterally childman manchild Jinbad Failer Binbad Vinbad roc rocs me\"], [[\"gets you on on the stage the last\", \"concert I sang at where its over a year\", \"ago when was it St Teresas hall\", \"Clarendon St little chits of missies\", \"they ha\"], \"missies nt Stabat jesuits freemason nt th Bn nt Krugers finelooking nt ve handglass scrooching skyblue stoppress joult featherbed nt fishslicers nt nt\"], [[\"on robbing the chickens out of Inces\", \"farm and throw stones at you if you went\", \"anear he was looking at me I had that\", \"white blouse on open in the front\"], \"casemates plotching ricestraw nt limesalts nt rrrsssstt awokwokawok whatyoucallit whatyoucallit nt burialplace nt nt nt Williss sandfrog nt cleanshave\"], [[\"in all creation another man with the\", \"habits he has look at the way hes\", \"sleeping at the foot of the bed how can\", \"he without a hard bolster its well he d\"], \"nt wifes nt huguenots salvations nt nt nt nt newlaid nt nt nt wethen nt nt coalcellar blackbeetles forlornlooking nt childs sheeps mens lowneck nt goo\"]], \"hovertemplate\": \"segment=%{x}<br>nMisspelled=%{y}<br>previews=%{customdata[0]}<br>misspelled=%{customdata[1]}<extra></extra>\", \"legendgroup\": \"\", \"marker\": {\"color\": \"#636efa\"}, \"name\": \"\", \"offsetgroup\": \"\", \"orientation\": \"v\", \"showlegend\": false, \"textposition\": \"auto\", \"type\": \"bar\", \"x\": [0, 1, 2, 3, 4, 5, 6, 7, 8, 9, 10, 11, 12, 13, 14, 15, 16, 17, 18, 19, 20, 21, 22, 23, 24, 25, 26, 27, 28, 29, 30, 31, 32, 33, 34, 35, 36, 37, 38, 39, 40, 41, 42, 43, 44, 45, 46, 47, 48, 49], \"xaxis\": \"x\", \"y\": [142, 107, 250, 156, 116, 100, 91, 123, 121, 122, 134, 147, 150, 157, 169, 131, 151, 153, 173, 139, 126, 122, 137, 105, 106, 137, 193, 135, 110, 318, 155, 150, 191, 221, 219, 222, 183, 105, 102, 82, 79, 126, 104, 131, 153, 120, 107, 137, 135, 151], \"yaxis\": \"y\"}],\n",
       "                        {\"barmode\": \"relative\", \"legend\": {\"tracegroupgap\": 0}, \"margin\": {\"t\": 60}, \"template\": {\"data\": {\"bar\": [{\"error_x\": {\"color\": \"#2a3f5f\"}, \"error_y\": {\"color\": \"#2a3f5f\"}, \"marker\": {\"line\": {\"color\": \"#E5ECF6\", \"width\": 0.5}}, \"type\": \"bar\"}], \"barpolar\": [{\"marker\": {\"line\": {\"color\": \"#E5ECF6\", \"width\": 0.5}}, \"type\": \"barpolar\"}], \"carpet\": [{\"aaxis\": {\"endlinecolor\": \"#2a3f5f\", \"gridcolor\": \"white\", \"linecolor\": \"white\", \"minorgridcolor\": \"white\", \"startlinecolor\": \"#2a3f5f\"}, \"baxis\": {\"endlinecolor\": \"#2a3f5f\", \"gridcolor\": \"white\", \"linecolor\": \"white\", \"minorgridcolor\": \"white\", \"startlinecolor\": \"#2a3f5f\"}, \"type\": \"carpet\"}], \"choropleth\": [{\"colorbar\": {\"outlinewidth\": 0, \"ticks\": \"\"}, \"type\": \"choropleth\"}], \"contour\": [{\"colorbar\": {\"outlinewidth\": 0, \"ticks\": \"\"}, \"colorscale\": [[0.0, \"#0d0887\"], [0.1111111111111111, \"#46039f\"], [0.2222222222222222, \"#7201a8\"], [0.3333333333333333, \"#9c179e\"], [0.4444444444444444, \"#bd3786\"], [0.5555555555555556, \"#d8576b\"], [0.6666666666666666, \"#ed7953\"], [0.7777777777777778, \"#fb9f3a\"], [0.8888888888888888, \"#fdca26\"], [1.0, \"#f0f921\"]], \"type\": \"contour\"}], \"contourcarpet\": [{\"colorbar\": {\"outlinewidth\": 0, \"ticks\": \"\"}, \"type\": \"contourcarpet\"}], \"heatmap\": [{\"colorbar\": {\"outlinewidth\": 0, \"ticks\": \"\"}, \"colorscale\": [[0.0, \"#0d0887\"], [0.1111111111111111, \"#46039f\"], [0.2222222222222222, \"#7201a8\"], [0.3333333333333333, \"#9c179e\"], [0.4444444444444444, \"#bd3786\"], [0.5555555555555556, \"#d8576b\"], [0.6666666666666666, \"#ed7953\"], [0.7777777777777778, \"#fb9f3a\"], [0.8888888888888888, \"#fdca26\"], [1.0, \"#f0f921\"]], \"type\": \"heatmap\"}], \"heatmapgl\": [{\"colorbar\": {\"outlinewidth\": 0, \"ticks\": \"\"}, \"colorscale\": [[0.0, \"#0d0887\"], [0.1111111111111111, \"#46039f\"], [0.2222222222222222, \"#7201a8\"], [0.3333333333333333, \"#9c179e\"], [0.4444444444444444, \"#bd3786\"], [0.5555555555555556, \"#d8576b\"], [0.6666666666666666, \"#ed7953\"], [0.7777777777777778, \"#fb9f3a\"], [0.8888888888888888, \"#fdca26\"], [1.0, \"#f0f921\"]], \"type\": \"heatmapgl\"}], \"histogram\": [{\"marker\": {\"colorbar\": {\"outlinewidth\": 0, \"ticks\": \"\"}}, \"type\": \"histogram\"}], \"histogram2d\": [{\"colorbar\": {\"outlinewidth\": 0, \"ticks\": \"\"}, \"colorscale\": [[0.0, \"#0d0887\"], [0.1111111111111111, \"#46039f\"], [0.2222222222222222, \"#7201a8\"], [0.3333333333333333, \"#9c179e\"], [0.4444444444444444, \"#bd3786\"], [0.5555555555555556, \"#d8576b\"], [0.6666666666666666, \"#ed7953\"], [0.7777777777777778, \"#fb9f3a\"], [0.8888888888888888, \"#fdca26\"], [1.0, \"#f0f921\"]], \"type\": \"histogram2d\"}], \"histogram2dcontour\": [{\"colorbar\": {\"outlinewidth\": 0, \"ticks\": \"\"}, \"colorscale\": [[0.0, \"#0d0887\"], [0.1111111111111111, \"#46039f\"], [0.2222222222222222, \"#7201a8\"], [0.3333333333333333, \"#9c179e\"], [0.4444444444444444, \"#bd3786\"], [0.5555555555555556, \"#d8576b\"], [0.6666666666666666, \"#ed7953\"], [0.7777777777777778, \"#fb9f3a\"], [0.8888888888888888, \"#fdca26\"], [1.0, \"#f0f921\"]], \"type\": \"histogram2dcontour\"}], \"mesh3d\": [{\"colorbar\": {\"outlinewidth\": 0, \"ticks\": \"\"}, \"type\": \"mesh3d\"}], \"parcoords\": [{\"line\": {\"colorbar\": {\"outlinewidth\": 0, \"ticks\": \"\"}}, \"type\": \"parcoords\"}], \"pie\": [{\"automargin\": true, \"type\": \"pie\"}], \"scatter\": [{\"marker\": {\"colorbar\": {\"outlinewidth\": 0, \"ticks\": \"\"}}, \"type\": \"scatter\"}], \"scatter3d\": [{\"line\": {\"colorbar\": {\"outlinewidth\": 0, \"ticks\": \"\"}}, \"marker\": {\"colorbar\": {\"outlinewidth\": 0, \"ticks\": \"\"}}, \"type\": \"scatter3d\"}], \"scattercarpet\": [{\"marker\": {\"colorbar\": {\"outlinewidth\": 0, \"ticks\": \"\"}}, \"type\": \"scattercarpet\"}], \"scattergeo\": [{\"marker\": {\"colorbar\": {\"outlinewidth\": 0, \"ticks\": \"\"}}, \"type\": \"scattergeo\"}], \"scattergl\": [{\"marker\": {\"colorbar\": {\"outlinewidth\": 0, \"ticks\": \"\"}}, \"type\": \"scattergl\"}], \"scattermapbox\": [{\"marker\": {\"colorbar\": {\"outlinewidth\": 0, \"ticks\": \"\"}}, \"type\": \"scattermapbox\"}], \"scatterpolar\": [{\"marker\": {\"colorbar\": {\"outlinewidth\": 0, \"ticks\": \"\"}}, \"type\": \"scatterpolar\"}], \"scatterpolargl\": [{\"marker\": {\"colorbar\": {\"outlinewidth\": 0, \"ticks\": \"\"}}, \"type\": \"scatterpolargl\"}], \"scatterternary\": [{\"marker\": {\"colorbar\": {\"outlinewidth\": 0, \"ticks\": \"\"}}, \"type\": \"scatterternary\"}], \"surface\": [{\"colorbar\": {\"outlinewidth\": 0, \"ticks\": \"\"}, \"colorscale\": [[0.0, \"#0d0887\"], [0.1111111111111111, \"#46039f\"], [0.2222222222222222, \"#7201a8\"], [0.3333333333333333, \"#9c179e\"], [0.4444444444444444, \"#bd3786\"], [0.5555555555555556, \"#d8576b\"], [0.6666666666666666, \"#ed7953\"], [0.7777777777777778, \"#fb9f3a\"], [0.8888888888888888, \"#fdca26\"], [1.0, \"#f0f921\"]], \"type\": \"surface\"}], \"table\": [{\"cells\": {\"fill\": {\"color\": \"#EBF0F8\"}, \"line\": {\"color\": \"white\"}}, \"header\": {\"fill\": {\"color\": \"#C8D4E3\"}, \"line\": {\"color\": \"white\"}}, \"type\": \"table\"}]}, \"layout\": {\"annotationdefaults\": {\"arrowcolor\": \"#2a3f5f\", \"arrowhead\": 0, \"arrowwidth\": 1}, \"coloraxis\": {\"colorbar\": {\"outlinewidth\": 0, \"ticks\": \"\"}}, \"colorscale\": {\"diverging\": [[0, \"#8e0152\"], [0.1, \"#c51b7d\"], [0.2, \"#de77ae\"], [0.3, \"#f1b6da\"], [0.4, \"#fde0ef\"], [0.5, \"#f7f7f7\"], [0.6, \"#e6f5d0\"], [0.7, \"#b8e186\"], [0.8, \"#7fbc41\"], [0.9, \"#4d9221\"], [1, \"#276419\"]], \"sequential\": [[0.0, \"#0d0887\"], [0.1111111111111111, \"#46039f\"], [0.2222222222222222, \"#7201a8\"], [0.3333333333333333, \"#9c179e\"], [0.4444444444444444, \"#bd3786\"], [0.5555555555555556, \"#d8576b\"], [0.6666666666666666, \"#ed7953\"], [0.7777777777777778, \"#fb9f3a\"], [0.8888888888888888, \"#fdca26\"], [1.0, \"#f0f921\"]], \"sequentialminus\": [[0.0, \"#0d0887\"], [0.1111111111111111, \"#46039f\"], [0.2222222222222222, \"#7201a8\"], [0.3333333333333333, \"#9c179e\"], [0.4444444444444444, \"#bd3786\"], [0.5555555555555556, \"#d8576b\"], [0.6666666666666666, \"#ed7953\"], [0.7777777777777778, \"#fb9f3a\"], [0.8888888888888888, \"#fdca26\"], [1.0, \"#f0f921\"]]}, \"colorway\": [\"#636efa\", \"#EF553B\", \"#00cc96\", \"#ab63fa\", \"#FFA15A\", \"#19d3f3\", \"#FF6692\", \"#B6E880\", \"#FF97FF\", \"#FECB52\"], \"font\": {\"color\": \"#2a3f5f\"}, \"geo\": {\"bgcolor\": \"white\", \"lakecolor\": \"white\", \"landcolor\": \"#E5ECF6\", \"showlakes\": true, \"showland\": true, \"subunitcolor\": \"white\"}, \"hoverlabel\": {\"align\": \"left\"}, \"hovermode\": \"closest\", \"mapbox\": {\"style\": \"light\"}, \"paper_bgcolor\": \"white\", \"plot_bgcolor\": \"#E5ECF6\", \"polar\": {\"angularaxis\": {\"gridcolor\": \"white\", \"linecolor\": \"white\", \"ticks\": \"\"}, \"bgcolor\": \"#E5ECF6\", \"radialaxis\": {\"gridcolor\": \"white\", \"linecolor\": \"white\", \"ticks\": \"\"}}, \"scene\": {\"xaxis\": {\"backgroundcolor\": \"#E5ECF6\", \"gridcolor\": \"white\", \"gridwidth\": 2, \"linecolor\": \"white\", \"showbackground\": true, \"ticks\": \"\", \"zerolinecolor\": \"white\"}, \"yaxis\": {\"backgroundcolor\": \"#E5ECF6\", \"gridcolor\": \"white\", \"gridwidth\": 2, \"linecolor\": \"white\", \"showbackground\": true, \"ticks\": \"\", \"zerolinecolor\": \"white\"}, \"zaxis\": {\"backgroundcolor\": \"#E5ECF6\", \"gridcolor\": \"white\", \"gridwidth\": 2, \"linecolor\": \"white\", \"showbackground\": true, \"ticks\": \"\", \"zerolinecolor\": \"white\"}}, \"shapedefaults\": {\"line\": {\"color\": \"#2a3f5f\"}}, \"ternary\": {\"aaxis\": {\"gridcolor\": \"white\", \"linecolor\": \"white\", \"ticks\": \"\"}, \"baxis\": {\"gridcolor\": \"white\", \"linecolor\": \"white\", \"ticks\": \"\"}, \"bgcolor\": \"#E5ECF6\", \"caxis\": {\"gridcolor\": \"white\", \"linecolor\": \"white\", \"ticks\": \"\"}}, \"title\": {\"x\": 0.05}, \"xaxis\": {\"automargin\": true, \"gridcolor\": \"white\", \"linecolor\": \"white\", \"ticks\": \"\", \"title\": {\"standoff\": 15}, \"zerolinecolor\": \"white\", \"zerolinewidth\": 2}, \"yaxis\": {\"automargin\": true, \"gridcolor\": \"white\", \"linecolor\": \"white\", \"ticks\": \"\", \"title\": {\"standoff\": 15}, \"zerolinecolor\": \"white\", \"zerolinewidth\": 2}}}, \"xaxis\": {\"anchor\": \"y\", \"domain\": [0.0, 1.0], \"title\": {\"text\": \"segment\"}}, \"yaxis\": {\"anchor\": \"x\", \"domain\": [0.0, 1.0], \"title\": {\"text\": \"nMisspelled\"}}},\n",
       "                        {\"responsive\": true}\n",
       "                    ).then(function(){\n",
       "                            \n",
       "var gd = document.getElementById('5ba3414e-ed47-48ca-8803-5f40b02030ec');\n",
       "var x = new MutationObserver(function (mutations, observer) {{\n",
       "        var display = window.getComputedStyle(gd).display;\n",
       "        if (!display || display === 'none') {{\n",
       "            console.log([gd, 'removed!']);\n",
       "            Plotly.purge(gd);\n",
       "            observer.disconnect();\n",
       "        }}\n",
       "}});\n",
       "\n",
       "// Listen for the removal of the full notebook cells\n",
       "var notebookContainer = gd.closest('#notebook-container');\n",
       "if (notebookContainer) {{\n",
       "    x.observe(notebookContainer, {childList: true});\n",
       "}}\n",
       "\n",
       "// Listen for the clearing of the current output cell\n",
       "var outputEl = gd.closest('.output');\n",
       "if (outputEl) {{\n",
       "    x.observe(outputEl, {childList: true});\n",
       "}}\n",
       "\n",
       "                        })\n",
       "                };\n",
       "                });\n",
       "            </script>\n",
       "        </div>"
      ]
     },
     "metadata": {},
     "output_type": "display_data"
    }
   ],
   "source": [
    "plotMisspelled(ulysses)"
   ]
  },
  {
   "cell_type": "markdown",
   "metadata": {},
   "source": [
    "# Try to detect the languages"
   ]
  },
  {
   "cell_type": "code",
   "execution_count": 61,
   "metadata": {},
   "outputs": [],
   "source": [
    "def guessLanguageProportions(text): \n",
    "    \"\"\" First method: sum all the individual probabilities for each sentence. \"\"\"\n",
    "    allProps = {}\n",
    "    doc = nlp(text)\n",
    "    for sent in doc.sents: \n",
    "        sent = sent.text\n",
    "        try: \n",
    "            langs = langdetect.detect_langs(sent)\n",
    "        except: \n",
    "            #print(\"Error on: \", sent)\n",
    "            continue\n",
    "        for lang in langs:\n",
    "            l, prob = lang.lang, lang.prob\n",
    "            if l in allProps:\n",
    "                allProps[l] += prob\n",
    "            else: \n",
    "                allProps[l] = prob\n",
    "    return allProps"
   ]
  },
  {
   "cell_type": "code",
   "execution_count": 73,
   "metadata": {},
   "outputs": [],
   "source": [
    "def languageProportions(text): \n",
    "    \"\"\" Second method: get the highest-scoring language for each sentence, and tally \n",
    "    them according to number of sentences.\n",
    "    \"\"\"\n",
    "    allProps = {}\n",
    "    doc = nlp(text)\n",
    "    for sent in doc.sents: \n",
    "        sent = sent.text\n",
    "        try: \n",
    "            lang = langdetect.detect(sent)\n",
    "        except: \n",
    "            #print(\"Error on: \", sent)\n",
    "            continue\n",
    "        if lang in allProps:\n",
    "            allProps[lang] += 1\n",
    "        else: \n",
    "            allProps[lang] = 1\n",
    "#         if lang != 'en': \n",
    "#             print(sent, lang)\n",
    "    return allProps"
   ]
  },
  {
   "cell_type": "code",
   "execution_count": 121,
   "metadata": {},
   "outputs": [
    {
     "data": {
      "text/plain": [
       "<AxesSubplot:>"
      ]
     },
     "execution_count": 121,
     "metadata": {},
     "output_type": "execute_result"
    },
    {
     "data": {
      "image/png": "[encoded data removed]",
      "text/plain": [
       "<Figure size 432x288 with 1 Axes>"
      ]
     },
     "metadata": {
      "needs_background": "light"
     },
     "output_type": "display_data"
    }
   ],
   "source": [
    "pd.DataFrame(props)[['de', 'fr', 'it', 'nl']].plot()\n",
    "#pd.DataFrame(props)['en'].plot()"
   ]
  },
  {
   "cell_type": "code",
   "execution_count": 122,
   "metadata": {},
   "outputs": [],
   "source": [
    "def plotLanguageProportions(segments, langs=['en']): \n",
    "    props = [languageProportions(seg) for seg in segments]\n",
    "    pd.DataFrame(props)[langs].plot()"
   ]
  },
  {
   "cell_type": "code",
   "execution_count": 124,
   "metadata": {},
   "outputs": [
    {
     "data": {
      "image/png": "[encoded data removed]",
      "text/plain": [
       "<Figure size 432x288 with 1 Axes>"
      ]
     },
     "metadata": {
      "needs_background": "light"
     },
     "output_type": "display_data"
    }
   ],
   "source": [
    "plotLanguageProportions(getSegments(wakeText))"
   ]
  },
  {
   "cell_type": "code",
   "execution_count": 125,
   "metadata": {},
   "outputs": [
    {
     "ename": "KeyError",
     "evalue": "\"None of [Index([('de', 'fr', 'it', 'nl')], dtype='object')] are in the [columns]\"",
     "output_type": "error",
     "traceback": [
      "\u001b[0;31m---------------------------------------------------------------------------\u001b[0m",
      "\u001b[0;31mKeyError\u001b[0m                                  Traceback (most recent call last)",
      "\u001b[0;32m<ipython-input-125-5b428b296ed2>\u001b[0m in \u001b[0;36m<module>\u001b[0;34m\u001b[0m\n\u001b[0;32m----> 1\u001b[0;31m \u001b[0mplotLanguageProportions\u001b[0m\u001b[0;34m(\u001b[0m\u001b[0mgetSegments\u001b[0m\u001b[0;34m(\u001b[0m\u001b[0mwakeText\u001b[0m\u001b[0;34m)\u001b[0m\u001b[0;34m,\u001b[0m \u001b[0mlangs\u001b[0m\u001b[0;34m=\u001b[0m\u001b[0;34m[\u001b[0m\u001b[0;34m[\u001b[0m\u001b[0;34m'de'\u001b[0m\u001b[0;34m,\u001b[0m \u001b[0;34m'fr'\u001b[0m\u001b[0;34m,\u001b[0m \u001b[0;34m'it'\u001b[0m\u001b[0;34m,\u001b[0m \u001b[0;34m'nl'\u001b[0m\u001b[0;34m]\u001b[0m\u001b[0;34m]\u001b[0m\u001b[0;34m)\u001b[0m\u001b[0;34m\u001b[0m\u001b[0;34m\u001b[0m\u001b[0m\n\u001b[0m",
      "\u001b[0;32m<ipython-input-122-427a72bcd508>\u001b[0m in \u001b[0;36mplotLanguageProportions\u001b[0;34m(segments, langs)\u001b[0m\n\u001b[1;32m      1\u001b[0m \u001b[0;32mdef\u001b[0m \u001b[0mplotLanguageProportions\u001b[0m\u001b[0;34m(\u001b[0m\u001b[0msegments\u001b[0m\u001b[0;34m,\u001b[0m \u001b[0mlangs\u001b[0m\u001b[0;34m=\u001b[0m\u001b[0;34m[\u001b[0m\u001b[0;34m'en'\u001b[0m\u001b[0;34m]\u001b[0m\u001b[0;34m)\u001b[0m\u001b[0;34m:\u001b[0m\u001b[0;34m\u001b[0m\u001b[0;34m\u001b[0m\u001b[0m\n\u001b[1;32m      2\u001b[0m     \u001b[0mprops\u001b[0m \u001b[0;34m=\u001b[0m \u001b[0;34m[\u001b[0m\u001b[0mlanguageProportions\u001b[0m\u001b[0;34m(\u001b[0m\u001b[0mseg\u001b[0m\u001b[0;34m)\u001b[0m \u001b[0;32mfor\u001b[0m \u001b[0mseg\u001b[0m \u001b[0;32min\u001b[0m \u001b[0msegments\u001b[0m\u001b[0;34m]\u001b[0m\u001b[0;34m\u001b[0m\u001b[0;34m\u001b[0m\u001b[0m\n\u001b[0;32m----> 3\u001b[0;31m     \u001b[0mpd\u001b[0m\u001b[0;34m.\u001b[0m\u001b[0mDataFrame\u001b[0m\u001b[0;34m(\u001b[0m\u001b[0mprops\u001b[0m\u001b[0;34m)\u001b[0m\u001b[0;34m[\u001b[0m\u001b[0mlangs\u001b[0m\u001b[0;34m]\u001b[0m\u001b[0;34m.\u001b[0m\u001b[0mplot\u001b[0m\u001b[0;34m(\u001b[0m\u001b[0;34m)\u001b[0m\u001b[0;34m\u001b[0m\u001b[0;34m\u001b[0m\u001b[0m\n\u001b[0m",
      "\u001b[0;32m/nix/store/j3dxvxjpayc6gm7p4b6i2bfikq6819w2-python3-3.8.6-env/lib/python3.8/site-packages/pandas/core/frame.py\u001b[0m in \u001b[0;36m__getitem__\u001b[0;34m(self, key)\u001b[0m\n\u001b[1;32m   2906\u001b[0m             \u001b[0;32mif\u001b[0m \u001b[0mis_iterator\u001b[0m\u001b[0;34m(\u001b[0m\u001b[0mkey\u001b[0m\u001b[0;34m)\u001b[0m\u001b[0;34m:\u001b[0m\u001b[0;34m\u001b[0m\u001b[0;34m\u001b[0m\u001b[0m\n\u001b[1;32m   2907\u001b[0m                 \u001b[0mkey\u001b[0m \u001b[0;34m=\u001b[0m \u001b[0mlist\u001b[0m\u001b[0;34m(\u001b[0m\u001b[0mkey\u001b[0m\u001b[0;34m)\u001b[0m\u001b[0;34m\u001b[0m\u001b[0;34m\u001b[0m\u001b[0m\n\u001b[0;32m-> 2908\u001b[0;31m             \u001b[0mindexer\u001b[0m \u001b[0;34m=\u001b[0m \u001b[0mself\u001b[0m\u001b[0;34m.\u001b[0m\u001b[0mloc\u001b[0m\u001b[0;34m.\u001b[0m\u001b[0m_get_listlike_indexer\u001b[0m\u001b[0;34m(\u001b[0m\u001b[0mkey\u001b[0m\u001b[0;34m,\u001b[0m \u001b[0maxis\u001b[0m\u001b[0;34m=\u001b[0m\u001b[0;36m1\u001b[0m\u001b[0;34m,\u001b[0m \u001b[0mraise_missing\u001b[0m\u001b[0;34m=\u001b[0m\u001b[0;32mTrue\u001b[0m\u001b[0;34m)\u001b[0m\u001b[0;34m[\u001b[0m\u001b[0;36m1\u001b[0m\u001b[0;34m]\u001b[0m\u001b[0;34m\u001b[0m\u001b[0;34m\u001b[0m\u001b[0m\n\u001b[0m\u001b[1;32m   2909\u001b[0m \u001b[0;34m\u001b[0m\u001b[0m\n\u001b[1;32m   2910\u001b[0m         \u001b[0;31m# take() does not accept boolean indexers\u001b[0m\u001b[0;34m\u001b[0m\u001b[0;34m\u001b[0m\u001b[0;34m\u001b[0m\u001b[0m\n",
      "\u001b[0;32m/nix/store/j3dxvxjpayc6gm7p4b6i2bfikq6819w2-python3-3.8.6-env/lib/python3.8/site-packages/pandas/core/indexing.py\u001b[0m in \u001b[0;36m_get_listlike_indexer\u001b[0;34m(self, key, axis, raise_missing)\u001b[0m\n\u001b[1;32m   1252\u001b[0m             \u001b[0mkeyarr\u001b[0m\u001b[0;34m,\u001b[0m \u001b[0mindexer\u001b[0m\u001b[0;34m,\u001b[0m \u001b[0mnew_indexer\u001b[0m \u001b[0;34m=\u001b[0m \u001b[0max\u001b[0m\u001b[0;34m.\u001b[0m\u001b[0m_reindex_non_unique\u001b[0m\u001b[0;34m(\u001b[0m\u001b[0mkeyarr\u001b[0m\u001b[0;34m)\u001b[0m\u001b[0;34m\u001b[0m\u001b[0;34m\u001b[0m\u001b[0m\n\u001b[1;32m   1253\u001b[0m \u001b[0;34m\u001b[0m\u001b[0m\n\u001b[0;32m-> 1254\u001b[0;31m         \u001b[0mself\u001b[0m\u001b[0;34m.\u001b[0m\u001b[0m_validate_read_indexer\u001b[0m\u001b[0;34m(\u001b[0m\u001b[0mkeyarr\u001b[0m\u001b[0;34m,\u001b[0m \u001b[0mindexer\u001b[0m\u001b[0;34m,\u001b[0m \u001b[0maxis\u001b[0m\u001b[0;34m,\u001b[0m \u001b[0mraise_missing\u001b[0m\u001b[0;34m=\u001b[0m\u001b[0mraise_missing\u001b[0m\u001b[0;34m)\u001b[0m\u001b[0;34m\u001b[0m\u001b[0;34m\u001b[0m\u001b[0m\n\u001b[0m\u001b[1;32m   1255\u001b[0m         \u001b[0;32mreturn\u001b[0m \u001b[0mkeyarr\u001b[0m\u001b[0;34m,\u001b[0m \u001b[0mindexer\u001b[0m\u001b[0;34m\u001b[0m\u001b[0;34m\u001b[0m\u001b[0m\n\u001b[1;32m   1256\u001b[0m \u001b[0;34m\u001b[0m\u001b[0m\n",
      "\u001b[0;32m/nix/store/j3dxvxjpayc6gm7p4b6i2bfikq6819w2-python3-3.8.6-env/lib/python3.8/site-packages/pandas/core/indexing.py\u001b[0m in \u001b[0;36m_validate_read_indexer\u001b[0;34m(self, key, indexer, axis, raise_missing)\u001b[0m\n\u001b[1;32m   1296\u001b[0m             \u001b[0;32mif\u001b[0m \u001b[0mmissing\u001b[0m \u001b[0;34m==\u001b[0m \u001b[0mlen\u001b[0m\u001b[0;34m(\u001b[0m\u001b[0mindexer\u001b[0m\u001b[0;34m)\u001b[0m\u001b[0;34m:\u001b[0m\u001b[0;34m\u001b[0m\u001b[0;34m\u001b[0m\u001b[0m\n\u001b[1;32m   1297\u001b[0m                 \u001b[0maxis_name\u001b[0m \u001b[0;34m=\u001b[0m \u001b[0mself\u001b[0m\u001b[0;34m.\u001b[0m\u001b[0mobj\u001b[0m\u001b[0;34m.\u001b[0m\u001b[0m_get_axis_name\u001b[0m\u001b[0;34m(\u001b[0m\u001b[0maxis\u001b[0m\u001b[0;34m)\u001b[0m\u001b[0;34m\u001b[0m\u001b[0;34m\u001b[0m\u001b[0m\n\u001b[0;32m-> 1298\u001b[0;31m                 \u001b[0;32mraise\u001b[0m \u001b[0mKeyError\u001b[0m\u001b[0;34m(\u001b[0m\u001b[0;34mf\"None of [{key}] are in the [{axis_name}]\"\u001b[0m\u001b[0;34m)\u001b[0m\u001b[0;34m\u001b[0m\u001b[0;34m\u001b[0m\u001b[0m\n\u001b[0m\u001b[1;32m   1299\u001b[0m \u001b[0;34m\u001b[0m\u001b[0m\n\u001b[1;32m   1300\u001b[0m             \u001b[0;31m# We (temporarily) allow for some missing keys with .loc, except in\u001b[0m\u001b[0;34m\u001b[0m\u001b[0;34m\u001b[0m\u001b[0;34m\u001b[0m\u001b[0m\n",
      "\u001b[0;31mKeyError\u001b[0m: \"None of [Index([('de', 'fr', 'it', 'nl')], dtype='object')] are in the [columns]\""
     ]
    }
   ],
   "source": [
    "plotLanguageProportions(getSegments(wakeText), langs=[['de', 'fr', 'it', 'nl']])"
   ]
  },
  {
   "cell_type": "code",
   "execution_count": 130,
   "metadata": {},
   "outputs": [],
   "source": [
    "def colemanLiau(text): \n",
    "    \"\"\" Computes the Coleman-Liau readability index for a text.\"\"\"\n",
    "    doc = nlp(text)\n",
    "    numLetters = len(text)\n",
    "    numWords = len(doc) \n",
    "    numSents = len(list(doc.sents))\n",
    "    l = (numLetters/numWords)*100\n",
    "    s = (numSents/numWords)*100\n",
    "    return 0.0588*l - 0.296*s - 15.8"
   ]
  },
  {
   "cell_type": "code",
   "execution_count": 131,
   "metadata": {},
   "outputs": [
    {
     "data": {
      "text/plain": [
       "\"\\xa0\\xa0\\xa0 riverrun, past Eve and Adam's, from swerve of shore to bend\\nof bay, brings us by a commodius vicus of recirculation back to\\nHowth Castle and Environs.\\n\\xa0\\xa0\\xa0\\xa0 Sir Tristram, violer d'amores, fr'over t\""
      ]
     },
     "execution_count": 131,
     "metadata": {},
     "output_type": "execute_result"
    }
   ],
   "source": [
    "segments[0][:200]"
   ]
  },
  {
   "cell_type": "code",
   "execution_count": 132,
   "metadata": {},
   "outputs": [
    {
     "data": {
      "text/plain": [
       "8.303636363636361"
      ]
     },
     "execution_count": 132,
     "metadata": {},
     "output_type": "execute_result"
    }
   ],
   "source": [
    "colemanLiau(ulysses[:2000])"
   ]
  },
  {
   "cell_type": "code",
   "execution_count": 133,
   "metadata": {},
   "outputs": [],
   "source": [
    "clUlysses = [colemanLiau(seg) for seg in getSegments(ulysses)]"
   ]
  },
  {
   "cell_type": "code",
   "execution_count": 134,
   "metadata": {},
   "outputs": [
    {
     "data": {
      "text/plain": [
       "<AxesSubplot:>"
      ]
     },
     "execution_count": 134,
     "metadata": {},
     "output_type": "execute_result"
    },
    {
     "data": {
      "image/png": "[encoded data removed]",
      "text/plain": [
       "<Figure size 432x288 with 1 Axes>"
      ]
     },
     "metadata": {
      "needs_background": "light"
     },
     "output_type": "display_data"
    }
   ],
   "source": [
    "pd.Series(clUlysses).plot()"
   ]
  },
  {
   "cell_type": "code",
   "execution_count": 135,
   "metadata": {},
   "outputs": [
    {
     "data": {
      "text/plain": [
       "<AxesSubplot:>"
      ]
     },
     "execution_count": 135,
     "metadata": {},
     "output_type": "execute_result"
    },
    {
     "data": {
      "image/png": "[encoded data removed]",
      "text/plain": [
       "<Figure size 432x288 with 1 Axes>"
      ]
     },
     "metadata": {
      "needs_background": "light"
     },
     "output_type": "display_data"
    }
   ],
   "source": [
    "pd.Series([colemanLiau(seg) for seg in getSegments(wakeText)]).plot()"
   ]
  },
  {
   "cell_type": "code",
   "execution_count": null,
   "metadata": {},
   "outputs": [],
   "source": []
  }
 ],
 "metadata": {
  "kernelspec": {
   "display_name": "Python 3",
   "language": "python",
   "name": "python3"
  },
  "language_info": {
   "codemirror_mode": {
    "name": "ipython",
    "version": 3
   },
   "file_extension": ".py",
   "mimetype": "text/x-python",
   "name": "python",
   "nbconvert_exporter": "python",
   "pygments_lexer": "ipython3",
   "version": "3.8.6"
  }
 },
 "nbformat": 4,
 "nbformat_minor": 4
}
